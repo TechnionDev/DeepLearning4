{
 "cells": [
  {
   "cell_type": "markdown",
   "metadata": {},
   "source": [
    "$$\n",
    "\\newcommand{\\mat}[1]{\\boldsymbol {#1}}\n",
    "\\newcommand{\\mattr}[1]{\\boldsymbol {#1}^\\top}\n",
    "\\newcommand{\\matinv}[1]{\\boldsymbol {#1}^{-1}}\n",
    "\\newcommand{\\vec}[1]{\\boldsymbol {#1}}\n",
    "\\newcommand{\\vectr}[1]{\\boldsymbol {#1}^\\top}\n",
    "\\newcommand{\\rvar}[1]{\\mathrm {#1}}\n",
    "\\newcommand{\\rvec}[1]{\\boldsymbol{\\mathrm{#1}}}\n",
    "\\newcommand{\\diag}{\\mathop{\\mathrm {diag}}}\n",
    "\\newcommand{\\set}[1]{\\mathbb {#1}}\n",
    "\\newcommand{\\cset}[1]{\\mathcal{#1}}\n",
    "\\newcommand{\\norm}[1]{\\left\\lVert#1\\right\\rVert}\n",
    "\\newcommand{\\pderiv}[2]{\\frac{\\partial #1}{\\partial #2}}\n",
    "\\newcommand{\\bb}[1]{\\boldsymbol{#1}}\n",
    "\\newcommand{\\E}[2][]{\\mathbb{E}_{#1}\\left[#2\\right]}\n",
    "\\newcommand{\\ip}[3]{\\left<#1,#2\\right>_{#3}}\n",
    "\\newcommand{\\given}[]{\\,\\middle\\vert\\,}\n",
    "\\newcommand{\\DKL}[2]{\\cset{D}_{\\text{KL}}\\left(#1\\,\\Vert\\, #2\\right)}\n",
    "\\newcommand{\\grad}[]{\\nabla}\n",
    "$$\n",
    "# Part 1: Deep Reinforcement Learning\n",
    "<a id=part1></a>"
   ]
  },
  {
   "cell_type": "markdown",
   "metadata": {},
   "source": [
    "In the tutorial we have seen value-based reinforcement learning, in which we learn to approximate the action-value function $q(s,a)$.\n",
    "\n",
    "In this exercise we'll explore a different approach, directly learning the agent's policy distribution, $\\pi(a|s)$\n",
    "by using *policy gradients*, in order to safely land on the moon!"
   ]
  },
  {
   "cell_type": "code",
   "execution_count": 1,
   "metadata": {},
   "outputs": [],
   "source": [
    "%load_ext autoreload\n",
    "%autoreload 2\n",
    "%matplotlib inline\n",
    "\n",
    "import unittest\n",
    "import os\n",
    "import sys\n",
    "import pathlib\n",
    "import urllib\n",
    "import shutil\n",
    "import re\n",
    "\n",
    "import numpy as np\n",
    "import torch\n",
    "import torch.nn as nn\n",
    "import torch.optim as optim\n",
    "import matplotlib.pyplot as plt"
   ]
  },
  {
   "cell_type": "code",
   "execution_count": 2,
   "metadata": {},
   "outputs": [
    {
     "name": "stdout",
     "output_type": "stream",
     "text": [
      "Using device: cpu\n"
     ]
    }
   ],
   "source": [
    "test = unittest.TestCase()\n",
    "plt.rcParams.update({'font.size': 12})\n",
    "device = torch.device('cuda' if torch.cuda.is_available() else 'cpu')\n",
    "\n",
    "# Prefer CPU, GPU won't help much in this assignment\n",
    "device = 'cpu'\n",
    "print('Using device:', device)\n",
    "\n",
    "# Seed for deterministic tests\n",
    "SEED = 42"
   ]
  },
  {
   "cell_type": "markdown",
   "metadata": {},
   "source": [
    "Some technical notes before we begin:\n",
    "\n",
    "- This part does not require a GPU. We won't need large models, and the computation bottleneck will be the generation of episodes to train on.\n",
    "- In order to run this notebook on the server, you must prepend the `xvfb-run` command to create a virtual screen. For example,\n",
    "    - to run this notebook with `srun` do\n",
    "        ```\n",
    "        srun -c2 --gres=gpu:1 xvfb-run -a -s \"-screen 0 1440x900x24\" python main.py run-nb <filename>\n",
    "        ```\n",
    "    - To run the submission script, do\n",
    "        ```\n",
    "        srun -c2 xvfb-run -a -s \"-screen 0 1440x900x24\" python main.py prepare-submission ...\n",
    "        ```\n",
    "    - note that we have already included the `xvfb-run` command inside the `jupyter-lab.sh` script, so you can use it as usual with `srun`.\n",
    "    and so on.\n",
    "- The OpenAI `gym` library is not officially supported on windows. However it should be possible to install and run the necessary environment for this exercise. However, we cannot provide you with technical support for this. If you have trouble installing locally, we suggest running on the course server."
   ]
  },
  {
   "cell_type": "markdown",
   "metadata": {},
   "source": [
    "## Policy gradients\n",
    "<a id=part1_1></a>"
   ]
  },
  {
   "cell_type": "markdown",
   "metadata": {},
   "source": [
    "Recall from the tutorial that we define the **policy** of an agent as the conditional distribution,\n",
    "$$\n",
    "\\pi(a|s) = \\Pr(a_t=a\\vert s_t=s),\n",
    "$$\n",
    "which defines how likely the agent is to take action $a$ at state $s$.\n",
    "\n",
    "Furthermore we define the action-value function,\n",
    "$$\n",
    "q_{\\pi}(s,a) = \\E{g_t(\\tau)|s_t = s,a_t=a,\\pi}\n",
    "$$\n",
    "where \n",
    "$$\n",
    "g_t(\\tau) = r_{t+1}+\\gamma r_{t+2} + \\dots = \\sum_{k=0}^{\\infty} \\gamma^k r_{t+1+k},\n",
    "$$\n",
    "is the total discounted reward of a specific trajectory $\\tau$ from time $t$, and the expectation in $q$ is over all possible\n",
    "trajectories,\n",
    "$\n",
    "\\tau=\\left\\{ (s_0,a_0,r_1,s_1), \\dots (s_T,a_T,r_{T+1},s_{T+1}) \\right\\}.\n",
    "$"
   ]
  },
  {
   "cell_type": "markdown",
   "metadata": {},
   "source": [
    "In the tutorial we saw that we can learn a value function starting with some random function and\n",
    "updating it iteratively by using the **Bellman optimality equation**.\n",
    "Given that we have some action-value function, we can immediately create a policy based on that\n",
    "by simply selecting an action which maximize the action-value at the current state, i.e.\n",
    "$$\n",
    "\\pi(a|s) =\n",
    "\\begin{cases}\n",
    "1, & a = \\arg\\max_{a'\\in\\cset{A}} q(s,a') \\\\\n",
    "0, & \\text{else}\n",
    "\\end{cases}.\n",
    "$$\n",
    "This is called $q$-learning. This approach aims to obtain a policy indirectly through the action-value function.\n",
    "Yet, in most cases we don't actually care about knowing the value of particular states,\n",
    "since all we need is a good policy for our agent. \n",
    "\n",
    "Here we'll take a different approach and learn a policy distribution $\\pi(a|s)$ directly - by using **policy gradients**."
   ]
  },
  {
   "cell_type": "markdown",
   "metadata": {},
   "source": [
    "### Formalism"
   ]
  },
  {
   "cell_type": "markdown",
   "metadata": {},
   "source": [
    "We define a parametric policy, $\\pi_\\vec{\\theta}(a|s)$, and maximize total discounted reward (or minimize the negative reward):\n",
    "$$\n",
    "\\mathcal{L}(\\vec{\\theta})=\\E[\\tau]{-g(\\tau)|\\pi_\\vec{\\theta}} = -\\int g(\\tau)p(\\tau|\\vec{\\theta})d\\tau,\n",
    "$$\n",
    "where $p(\\tau|\\vec{\\theta})$ is the probability of a specific trajectory $\\tau$ under the policy defined by $\\vec{\\theta}$.\n"
   ]
  },
  {
   "cell_type": "markdown",
   "metadata": {},
   "source": [
    "Since we want to find the parameters $\\vec{\\theta}$ which minimize $\\mathcal{L}(\\vec{\\theta})$, we'll compute the gradient w.r.t. $\\vec{\\theta}$:\n",
    "$$\n",
    "\\grad\\mathcal{L}(\\vec{\\theta}) = -\\int g(\\tau)\\grad p(\\tau|\\vec{\\theta})d\\tau.\n",
    "$$\n",
    "\n",
    "Unfortunately, if we try to write $p(\\tau|\\vec{\\theta})$ explicitly,\n",
    "we find that computing it's gradient with respect to $\\vec{\\theta}$ is\n",
    "quite intractable due to a huge product of terms depending on $\\vec{\\theta}$:\n",
    "$$\n",
    "p(\\tau|\\vec{\\theta})=p\\left(\\left\\{ (s_t,a_t,r_{t+1},s_{t+1})\\right\\}_{t\\geq0}\\given\\vec{\\theta}\\right)\n",
    "=p(s_0)\\prod_{t\\geq0} \\pi_{\\vec{\\theta}}(a_t|s_t)p(s_{t+1}|s_t,a_t).\n",
    "$$"
   ]
  },
  {
   "cell_type": "markdown",
   "metadata": {},
   "source": [
    "However, by using the fact that $\\grad_{x}\\log(f(x))=\\frac{\\grad_{x}f(x)}{f(x)}$, we can convert the product into a sum:\n",
    "$$\n",
    "\\begin{align}\n",
    "\\grad\\mathcal{L}(\\vec{\\theta})\n",
    "&= -\\int g(\\tau)\\grad p(\\tau|\\vec{\\theta})d\\tau\n",
    "= -\\int g(\\tau)\\frac{\\grad p(\\tau|\\vec{\\theta})}{p(\\tau|\\vec{\\theta})}p(\\tau|\\vec{\\theta})d\\tau \\\\\n",
    "&= -\\int g(\\tau)\\grad\\log\\left(p(\\tau|\\vec{\\theta})\\right)p(\\tau|\\vec{\\theta})d\\tau \\\\\n",
    "&= -\\int g(\\tau)\\grad\\log\\left( p(s_0)\\prod_{t\\geq0} \\pi_{\\vec{\\theta}}(a_t|s_t)p(s_{t+1}|s_t,a_t) \\right)\n",
    "p(\\tau|\\vec{\\theta})d\\tau \\\\\n",
    "&= -\\int g(\\tau)\\grad\\left( \\log p(s_0) + \\sum_{t\\geq0} \\log \\pi_{\\vec{\\theta}}(a_t|s_t) + \n",
    "\\sum_{t\\geq0}\\log p(s_{t+1}|s_t,a_t) \\right) p(\\tau|\\vec{\\theta})d\\tau \\\\\n",
    "&= -\\int g(\\tau)\\sum_{t\\geq0} \\grad\\log \\pi_{\\vec{\\theta}}(a_t|s_t) p(\\tau|\\vec{\\theta})d\\tau \\\\\n",
    "&= \\E[\\tau]{-g(\\tau)\\sum_{t\\geq0} \\grad\\log \\pi_{\\vec{\\theta}}(a_t|s_t)}.\n",
    "\\end{align}\n",
    "$$"
   ]
  },
  {
   "cell_type": "markdown",
   "metadata": {},
   "source": [
    "This is the \"vanilla\" version of the policy gradient. We can interpret is as a weighted log-likelihood function.\n",
    "The log-policy is the log-likelihood term we wish to maximize and the total discounted reward acts as a weight: high-return positive\n",
    "trajectories will cause the probability of actions taken during them to increase, and negative-return trajectories will cause the\n",
    "probabilities of actions taken to decrease.\n",
    "\n",
    "In the following figures we see three trajectories: high-return positive-reward (green), low-return positive-reward (yellow) and negative-return (red) and the action probabilities along the trajectories after the update. Credit: Sergey Levine.\n",
    "\n",
    "|<strong></strong>||\n",
    "|-----| ----|\n",
    "|<img src=\"imgs/pg1.png\" height=\"200\">|<img src=\"imgs/pg2.png\" height=\"200\">|\n"
   ]
  },
  {
   "cell_type": "markdown",
   "metadata": {},
   "source": [
    "The major drawback of the policy-gradient is it's high variance, which causes erratic optimization behavior and therefore slow convergence.\n",
    "One reason for this is that the log-policy weight term, $g(\\tau)$ can vary wildly between different trajectories, even if they're similar in\n",
    "actions. Later on we'll implement the loss and explore some methods of variance reduction."
   ]
  },
  {
   "cell_type": "markdown",
   "metadata": {},
   "source": [
    "### Landing on the moon with policy gradients"
   ]
  },
  {
   "cell_type": "markdown",
   "metadata": {},
   "source": [
    "In the spirit of the recent achievements of the Israeli space industry,\n",
    "we'll apply our reinforcement learning skills to solve a simple game called **LunarLander**.\n",
    "\n",
    "This game is available as an `environment` in OpenAI `gym`.\n",
    "\n",
    "<video loop autoplay src=\"http://gym.openai.com/videos/2019-04-06--My9IiAbqha/LunarLander-v2/original.mp4\" />"
   ]
  },
  {
   "cell_type": "markdown",
   "metadata": {},
   "source": [
    "In this environment, you need to control the lander and get it to land safely on the moon.\n",
    "To do so, you must apply bottom, right or left thrusters (each are either fully on or fully off)\n",
    "and get it to land within the designated zone as quickly as possible and with minimal wasted fuel."
   ]
  },
  {
   "cell_type": "code",
   "execution_count": 3,
   "metadata": {},
   "outputs": [],
   "source": [
    "import gym\n",
    "\n",
    "# Just for fun :) ... but also to re-define the default max number of steps\n",
    "ENV_NAME = 'Beresheet-v2'\n",
    "MAX_EPISODE_STEPS = 300\n",
    "if ENV_NAME not in gym.envs.registry.env_specs:\n",
    "    gym.register(\n",
    "        id=ENV_NAME,\n",
    "        entry_point='gym.envs.box2d:LunarLander',\n",
    "        max_episode_steps=MAX_EPISODE_STEPS,\n",
    "        reward_threshold=200,\n",
    "    )"
   ]
  },
  {
   "cell_type": "code",
   "execution_count": 4,
   "metadata": {},
   "outputs": [
    {
     "name": "stdout",
     "output_type": "stream",
     "text": [
      "<TimeLimit<LunarLander<Beresheet-v2>>>\n",
      "observations space: Box(-inf, inf, (8,), float32)\n",
      "action space: Discrete(4)\n"
     ]
    }
   ],
   "source": [
    "import gym\n",
    "\n",
    "env = gym.make(ENV_NAME)\n",
    "\n",
    "print(env)\n",
    "print(f'observations space: {env.observation_space}')\n",
    "print(f'action space: {env.action_space}')\n",
    "\n",
    "ENV_N_ACTIONS = env.action_space.n\n",
    "ENV_N_OBSERVATIONS = env.observation_space.shape[0]"
   ]
  },
  {
   "cell_type": "markdown",
   "metadata": {},
   "source": [
    "The observations at each step is the Lander's position, velocity, angle, angular velocity and ground contact state.\n",
    "The actions are no-op, fire left truster, bottom thruster and right thruster.\n",
    "\n",
    "You are **highly encouraged** to read the [documentation](https://github.com/openai/gym/blob/master/gym/envs/box2d/lunar_lander.py) in the source code of the `LunarLander` environment to understand the reward system,\n",
    "and see how the actions and observations are created."
   ]
  },
  {
   "cell_type": "markdown",
   "metadata": {},
   "source": [
    "### Policy network and Agent"
   ]
  },
  {
   "cell_type": "markdown",
   "metadata": {},
   "source": [
    "Let's start with our policy-model. This will be a simple neural net, which should take an observation and return a score for each possible action."
   ]
  },
  {
   "cell_type": "markdown",
   "metadata": {},
   "source": [
    "**TODO**:\n",
    "1. Implement all methods in the `PolicyNet` class in the `hw4/rl_pg.py` module.\n",
    "   Start small. A simple MLP with a few hidden layers is a good starting point. You can come back and change it later based on the the experiments.  \n",
    "   Notice that we'll use the `build_for_env` method to instantiate a `PolicyNet` based on the configuration of a given environment.\n",
    "2. If you need hyperparameters to configure your model (e.g. number of hidden layers, sizes, etc.), add them in `part1_pg_hyperparams()` in `hw4/answers.py`."
   ]
  },
  {
   "cell_type": "code",
   "execution_count": 5,
   "metadata": {},
   "outputs": [
    {
     "data": {
      "text/plain": [
       "PolicyNet(\n",
       "  (layers): Sequential(\n",
       "    (0): Linear(in_features=8, out_features=32, bias=True)\n",
       "    (1): ReLU()\n",
       "    (2): Linear(in_features=32, out_features=16, bias=True)\n",
       "    (3): ReLU()\n",
       "    (4): Linear(in_features=16, out_features=4, bias=True)\n",
       "  )\n",
       ")"
      ]
     },
     "execution_count": 5,
     "metadata": {},
     "output_type": "execute_result"
    }
   ],
   "source": [
    "import hw4.rl_pg as hw4pg\n",
    "import hw4.answers\n",
    "\n",
    "hp = hw4.answers.part1_pg_hyperparams()\n",
    "\n",
    "# You can add keyword-args to this function which will be populated from the\n",
    "# hyperparameters dict.\n",
    "p_net = hw4pg.PolicyNet.build_for_env(env, device, **hp)\n",
    "p_net"
   ]
  },
  {
   "cell_type": "markdown",
   "metadata": {},
   "source": [
    "Now we need an **agent**. The purpose of our agent will be to act according to the current policy and generate experiences.\n",
    "Our `PolicyAgent` will use a `PolicyNet` as the current policy function.\n",
    "\n",
    "\n",
    "We'll also define some extra datatypes to help us represent the data generated by our agent.\n",
    "You can find the `Experience`, `Episode` and `TrainBatch` datatypes in the `hw4/rl_data.py` module."
   ]
  },
  {
   "cell_type": "markdown",
   "metadata": {},
   "source": [
    "**TODO**: Implement the `current_action_distribution()` method of the `PolicyAgent` class in the `hw4/rl_pg.py` module."
   ]
  },
  {
   "cell_type": "code",
   "execution_count": 6,
   "metadata": {},
   "outputs": [
    {
     "name": "stdout",
     "output_type": "stream",
     "text": [
      "tensor([0.2829, 0.2110, 0.2660, 0.2401], grad_fn=<SoftmaxBackward>)\n"
     ]
    }
   ],
   "source": [
    "for i in range (10):\n",
    "    agent = hw4pg.PolicyAgent(env, p_net, device)\n",
    "    d = agent.current_action_distribution()\n",
    "    \n",
    "    test.assertSequenceEqual(d.shape, (env.action_space.n,))\n",
    "    test.assertAlmostEqual(d.sum(), 1.0, delta=1e-5)\n",
    "    \n",
    "print(d)"
   ]
  },
  {
   "cell_type": "markdown",
   "metadata": {},
   "source": [
    "**TODO**: Implement the `step()` method of the `PolicyAgent`."
   ]
  },
  {
   "cell_type": "code",
   "execution_count": 7,
   "metadata": {},
   "outputs": [
    {
     "name": "stdout",
     "output_type": "stream",
     "text": [
      "Experience(state=array([ 0.00317316,  1.4284787 ,  0.15440294,  0.41229773, -0.00445209,\n",
      "       -0.05083207,  0.        ,  0.        ], dtype=float32), action=2, reward=-5.064414597170344, is_done=False)\n"
     ]
    }
   ],
   "source": [
    "agent = hw4pg.PolicyAgent(env, p_net, device)\n",
    "exp = agent.step()\n",
    "\n",
    "test.assertIsInstance(exp, hw4pg.Experience)\n",
    "print(exp)"
   ]
  },
  {
   "cell_type": "markdown",
   "metadata": {},
   "source": [
    "To test our agent, we'll write some code that allows it to play an environment. We'll use the `Monitor`\n",
    "wrapper in `gym` to generate a video of the episode for visual debugging."
   ]
  },
  {
   "cell_type": "markdown",
   "metadata": {},
   "source": [
    "**TODO**: Complete the implementation of the `monitor_episode()` method of the `PolicyAgent`."
   ]
  },
  {
   "cell_type": "code",
   "execution_count": 8,
   "metadata": {},
   "outputs": [],
   "source": [
    "env, n_steps, reward = agent.monitor_episode(ENV_NAME, p_net, device=device)"
   ]
  },
  {
   "cell_type": "markdown",
   "metadata": {},
   "source": [
    "To display the Monitor video in this notebook, we'll use a helper function from our `jupyter_utils` and a small wrapper that extracts the path of the last video file. "
   ]
  },
  {
   "cell_type": "code",
   "execution_count": 9,
   "metadata": {},
   "outputs": [],
   "source": [
    "import cs236781.jupyter_utils as jupyter_utils\n",
    "\n",
    "def show_monitor_video(monitor_env, idx=0, **kw):\n",
    "    # Extract video path\n",
    "    video_path = monitor_env.videos[idx][0]\n",
    "    video_path = os.path.relpath(video_path, start=os.path.curdir)\n",
    "    print(video_path)\n",
    "    # Use helper function to embed the video\n",
    "    return jupyter_utils.show_video_in_notebook(video_path, **kw)"
   ]
  },
  {
   "cell_type": "code",
   "execution_count": 10,
   "metadata": {},
   "outputs": [
    {
     "name": "stdout",
     "output_type": "stream",
     "text": [
      "Episode ran for 75 steps. Total reward: -436.47\n",
      "checkpoints/monitor/openaigym.video.0.7261.video000000.mp4\n"
     ]
    },
    {
     "data": {
      "text/html": [
       "<video src=\"data:video/mp4;base64,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\" controls autoplay width=\"500\" height=\"auto\" />"
      ],
      "text/plain": [
       "<IPython.core.display.HTML object>"
      ]
     },
     "execution_count": 10,
     "metadata": {},
     "output_type": "execute_result"
    }
   ],
   "source": [
    "print(f'Episode ran for {n_steps} steps. Total reward: {reward:.2f}')\n",
    "\n",
    "show_monitor_video(env)"
   ]
  },
  {
   "cell_type": "markdown",
   "metadata": {},
   "source": [
    "### Training data"
   ]
  },
  {
   "cell_type": "markdown",
   "metadata": {},
   "source": [
    "The next step is to create data to train on.\n",
    "We need to train on batches of state-action pairs, so that our network can learn to predict the actions.\n",
    "\n",
    "We'll split this task into three parts:\n",
    "1. Generate a batch of `Episode`s, by using an `Agent` that's playing according to our current policy network.\n",
    "   Each `Episode` object contains the `Experience` objects created by the agent.\n",
    "2. Calculate the total discounted reward for each state we encountered and action we took. This is our action-value estimate.\n",
    "3. Convert the `Episode`s into a batch of tensors to train on.\n",
    "   Each batch will contain states, action taken per state, reward accrued, and the calculated estimated state-values.\n",
    "   These will be stored in a `TrainBatch` object.\n"
   ]
  },
  {
   "cell_type": "markdown",
   "metadata": {},
   "source": [
    "**TODO**: Complete the implementation of the `episode_batch_generator()` method in the `TrainBatchDataset` class within the `hw4.rl_data` module. This will address part 1 in the list above."
   ]
  },
  {
   "cell_type": "code",
   "execution_count": 11,
   "metadata": {},
   "outputs": [
    {
     "name": "stdout",
     "output_type": "stream",
     "text": [
      "First episode: Episode(total_reward=-608.37, #experences=88)\n"
     ]
    }
   ],
   "source": [
    "import hw4.rl_data as hw4data\n",
    "\n",
    "def agent_fn():\n",
    "    env = gym.make(ENV_NAME)\n",
    "    hp = hw4.answers.part1_pg_hyperparams()\n",
    "    p_net = hw4pg.PolicyNet.build_for_env(env, device, **hp)\n",
    "    return hw4pg.PolicyAgent(env, p_net, device)\n",
    "    \n",
    "ds = hw4data.TrainBatchDataset(agent_fn, episode_batch_size=8, gamma=0.9)\n",
    "batch_gen = ds.episode_batch_generator()\n",
    "b = next(batch_gen)\n",
    "print('First episode:', b[0])\n",
    "\n",
    "test.assertEqual(len(b), 8)\n",
    "for ep in b:\n",
    "    test.assertIsInstance(ep, hw4data.Episode)\n",
    "    \n",
    "    # Check that it's a full episode\n",
    "    is_done = [exp.is_done for exp in ep.experiences]\n",
    "    test.assertFalse(any(is_done[0:-1]))\n",
    "    test.assertTrue(is_done[-1])"
   ]
  },
  {
   "cell_type": "markdown",
   "metadata": {},
   "source": [
    "**TODO**: Complete the implementation of the `calc_qvals()` method in the `Episode` class.\n",
    "This will address part 2.\n",
    "These q-values are an estimate of the actual action value function: $$\\hat{q}_{t} = \\sum_{t'\\geq t} \\gamma^{t'-t}r_{t'+1}.$$"
   ]
  },
  {
   "cell_type": "code",
   "execution_count": 12,
   "metadata": {},
   "outputs": [],
   "source": [
    "np.random.seed(SEED)\n",
    "test_rewards = np.random.randint(-10, 10, 100)\n",
    "test_experiences = [hw4pg.Experience(None,None,r,False) for r in test_rewards] \n",
    "test_episode = hw4data.Episode(np.sum(test_rewards), test_experiences)\n",
    "\n",
    "qvals = test_episode.calc_qvals(0.9)\n",
    "qvals = list(qvals)\n",
    "expected_qvals = np.load(os.path.join('tests', 'assets', 'part1_expected_qvals.npy'))\n",
    "# print(f\"actual qvals is {qvals}, expected qvals is {expected_qvals}\")\n",
    "for i in range(len(test_rewards)):\n",
    "    test.assertAlmostEqual(expected_qvals[i], qvals[i], delta=1e-3)"
   ]
  },
  {
   "cell_type": "markdown",
   "metadata": {},
   "source": [
    "**TODO**: Complete the implementation of the `from_episodes()` method in the `TrainBatch` class.\n",
    "This will address part 3.\n",
    "\n",
    "Notes:\n",
    "- The `TrainBatchDataset` class provides a generator function that will use the above function to lazily generate batches of training samples and labels on demand.\n",
    "- This allows us to use a standard `PyTorch` dataloader to wrap our Dataset and provide us with parallel data loading for free!\n",
    "  This means we can run multiple environments with multiple agents in separate background processes to generate data for training and thus prevent the data loading bottleneck which is caused by the fact that we must generate full Episodes to train on in order to calculate the q-values.\n",
    "- We'll set the `DataLoader`'s `batch_size` to `None` because we have already implemented custom batching in our dataset.\n",
    "- You can choose the number of worker processes generating data using the `num_workers` parameter in the hyperparams dict. Set `num_workers=0` to disable parallelization."
   ]
  },
  {
   "cell_type": "code",
   "execution_count": 13,
   "metadata": {},
   "outputs": [
    {
     "name": "stdout",
     "output_type": "stream",
     "text": [
      "{'batch_size': 32, 'gamma': 0.99, 'beta': 0.5, 'learn_rate': 0.001, 'eps': 1e-08, 'num_workers': 2}\n",
      "#0: TrainBatch(states: torch.Size([627, 8]), actions: torch.Size([627]), q_vals: torch.Size([627])), num_episodes: 8)\n",
      "#1: TrainBatch(states: torch.Size([592, 8]), actions: torch.Size([592]), q_vals: torch.Size([592])), num_episodes: 8)\n",
      "#2: TrainBatch(states: torch.Size([557, 8]), actions: torch.Size([557]), q_vals: torch.Size([557])), num_episodes: 8)\n",
      "#3: TrainBatch(states: torch.Size([608, 8]), actions: torch.Size([608]), q_vals: torch.Size([608])), num_episodes: 8)\n",
      "#4: TrainBatch(states: torch.Size([593, 8]), actions: torch.Size([593]), q_vals: torch.Size([593])), num_episodes: 8)\n",
      "#5: TrainBatch(states: torch.Size([590, 8]), actions: torch.Size([590]), q_vals: torch.Size([590])), num_episodes: 8)\n",
      "#6: TrainBatch(states: torch.Size([632, 8]), actions: torch.Size([632]), q_vals: torch.Size([632])), num_episodes: 8)\n"
     ]
    }
   ],
   "source": [
    "from torch.utils.data import DataLoader\n",
    "\n",
    "hp = hw4.answers.part1_pg_hyperparams()\n",
    "print(hp)\n",
    "ds = hw4data.TrainBatchDataset(agent_fn, episode_batch_size=8, gamma=0.9)\n",
    "dl = DataLoader(\n",
    "    ds,\n",
    "    batch_size=None,\n",
    "    num_workers=hp['num_workers'],\n",
    "    multiprocessing_context='fork' if hp['num_workers'] > 0 else None\n",
    ")\n",
    "\n",
    "\n",
    "for i, train_batch in enumerate(dl):\n",
    "    states, actions, qvals, reward_mean = train_batch\n",
    "    print(f'#{i}: {train_batch}')\n",
    "    test.assertEqual(states.shape[0], actions.shape[0])\n",
    "    test.assertEqual(qvals.shape[0], actions.shape[0])\n",
    "    test.assertEqual(states.shape[1], env.observation_space.shape[0])\n",
    "    if i > 5:\n",
    "        break"
   ]
  },
  {
   "cell_type": "markdown",
   "metadata": {},
   "source": [
    "### Loss functions"
   ]
  },
  {
   "cell_type": "markdown",
   "metadata": {},
   "source": [
    "As usual, we need a loss function to optimize over.\n",
    "We'll calculate three types of losses:\n",
    "1. The causal vanilla policy gradient loss.\n",
    "1. The policy gradient loss, with a baseline to reduce variance.\n",
    "2. An entropy-based loss whos purpose is to diversify the agent's action selection,\n",
    "   and prevent it from being \"too sure\" about its actions.\n",
    "   This loss will be used together with one of the above losses."
   ]
  },
  {
   "cell_type": "markdown",
   "metadata": {},
   "source": [
    "#### Causal vanilla policy-gradient"
   ]
  },
  {
   "cell_type": "markdown",
   "metadata": {},
   "source": [
    "We have derived the policy-gradient as\n",
    "$$\n",
    "\\grad\\mathcal{L}(\\vec{\\theta}) = \\E[\\tau]{-g(\\tau)\\sum_{t\\geq0} \\grad\\log \\pi_{\\vec{\\theta}}(a_t|s_t)}.\n",
    "$$\n",
    "\n",
    "By writing the discounted reward explicitly and enforcing causality, i.e. the action taken at time $t$ can't affect\n",
    "the reward at time $t'<t$, we can get a slightly lower-variance version of the policy gradient:\n",
    "\n",
    "$$\n",
    "\\grad\\mathcal{L}_{\\text{PG}}(\\vec{\\theta}) = \n",
    "\\E[\\tau]{-\\sum_{t\\geq0} \\left(\\sum_{t'\\geq t} \\gamma^{t'-t}r_{t'+1} \\right)\\grad\\log \\pi_{\\vec{\\theta}}(a_t|s_t)}.\n",
    "$$"
   ]
  },
  {
   "cell_type": "markdown",
   "metadata": {},
   "source": [
    "In practice, the expectation over trajectories is calculated using a Monte-Carlo approach, i.e. simply sampling $N$\n",
    "trajectories and average the term inside the expectation. Therefore, we will use the following estimated version of the policy gradient:\n",
    "\n",
    "$$\n",
    "\\begin{align}\n",
    "\\hat\\grad\\mathcal{L}_{\\text{PG}}(\\vec{\\theta})\n",
    "&=-\\frac{1}{N}\\sum_{i=1}^{N}\\sum_{t\\geq0} \\left(\\sum_{t'\\geq t} \\gamma^{t'-t}r_{i,t'+1} \\right)\\grad\\log \\pi_{\\vec{\\theta}}(a_{i,t}|s_{i,t}) \\\\\n",
    "&=-\\frac{1}{N}\\sum_{i=1}^{N}\\sum_{t\\geq0} \\hat{q}_{i,t} \\grad\\log \\pi_{\\vec{\\theta}}(a_{i,t}|s_{i,t}).\n",
    "\\end{align}\n",
    "$$\n",
    "\n",
    "Note the use of the notation $\\hat{q}_{i,t}$ to represent the estimated action-value at time $t$ in the sampled trajectory $i$.\n",
    "Here $\\hat{q}_{i,t}$ is acting as the weight-term for the policy gradient."
   ]
  },
  {
   "cell_type": "markdown",
   "metadata": {},
   "source": [
    "**TODO**: Complete the implementation of the `VanillaPolicyGradientLoss` class in the `hw4/rl_pg.py` module."
   ]
  },
  {
   "cell_type": "code",
   "execution_count": 22,
   "metadata": {},
   "outputs": [
    {
     "name": "stdout",
     "output_type": "stream",
     "text": [
      "test_batch=TrainBatch(states: torch.Size([319, 8]), actions: torch.Size([319]), q_vals: torch.Size([319])), num_episodes: 4)\n",
      "\n",
      "test_action_scores=\n",
      "tensor([[ 0.7670, -0.9372, -2.3305, -0.7809],\n",
      "        [ 0.8250,  1.2207, -0.0630,  1.1464],\n",
      "        [ 1.2215, -0.3137, -0.7234, -0.3627],\n",
      "        ...,\n",
      "        [ 1.7503, -0.1117, -0.8220,  0.7975],\n",
      "        [-1.0963, -0.7847, -0.5752,  0.5139],\n",
      "        [ 1.0508,  1.3841, -1.5027, -1.0865]])\n",
      "shape=torch.Size([319, 4])\n",
      "\n",
      "loss_p=tensor(-44.9373)\n"
     ]
    },
    {
     "ename": "AssertionError",
     "evalue": "-44.937252044677734 != -36.642 within 0.01 delta (8.295252044677731 difference)",
     "output_type": "error",
     "traceback": [
      "\u001b[0;31m---------------------------------------------------------------------------\u001b[0m",
      "\u001b[0;31mAssertionError\u001b[0m                            Traceback (most recent call last)",
      "\u001b[0;32m<ipython-input-22-522a8e3585c0>\u001b[0m in \u001b[0;36m<module>\u001b[0;34m\u001b[0m\n\u001b[1;32m     22\u001b[0m \u001b[0;34m\u001b[0m\u001b[0m\n\u001b[1;32m     23\u001b[0m \u001b[0mprint\u001b[0m\u001b[0;34m(\u001b[0m\u001b[0;34mf'{loss_p=}'\u001b[0m\u001b[0;34m)\u001b[0m\u001b[0;34m\u001b[0m\u001b[0;34m\u001b[0m\u001b[0m\n\u001b[0;32m---> 24\u001b[0;31m \u001b[0mtest\u001b[0m\u001b[0;34m.\u001b[0m\u001b[0massertAlmostEqual\u001b[0m\u001b[0;34m(\u001b[0m\u001b[0mloss_p\u001b[0m\u001b[0;34m.\u001b[0m\u001b[0mitem\u001b[0m\u001b[0;34m(\u001b[0m\u001b[0;34m)\u001b[0m\u001b[0;34m,\u001b[0m \u001b[0;34m-\u001b[0m\u001b[0;36m36.642\u001b[0m\u001b[0;34m,\u001b[0m \u001b[0mdelta\u001b[0m\u001b[0;34m=\u001b[0m\u001b[0;36m1e-2\u001b[0m\u001b[0;34m)\u001b[0m\u001b[0;34m\u001b[0m\u001b[0;34m\u001b[0m\u001b[0m\n\u001b[0m",
      "\u001b[0;32m~/miniconda3/envs/cs236781-hw/lib/python3.8/unittest/case.py\u001b[0m in \u001b[0;36massertAlmostEqual\u001b[0;34m(self, first, second, places, msg, delta)\u001b[0m\n\u001b[1;32m    964\u001b[0m                 safe_repr(diff))\n\u001b[1;32m    965\u001b[0m         \u001b[0mmsg\u001b[0m \u001b[0;34m=\u001b[0m \u001b[0mself\u001b[0m\u001b[0;34m.\u001b[0m\u001b[0m_formatMessage\u001b[0m\u001b[0;34m(\u001b[0m\u001b[0mmsg\u001b[0m\u001b[0;34m,\u001b[0m \u001b[0mstandardMsg\u001b[0m\u001b[0;34m)\u001b[0m\u001b[0;34m\u001b[0m\u001b[0;34m\u001b[0m\u001b[0m\n\u001b[0;32m--> 966\u001b[0;31m         \u001b[0;32mraise\u001b[0m \u001b[0mself\u001b[0m\u001b[0;34m.\u001b[0m\u001b[0mfailureException\u001b[0m\u001b[0;34m(\u001b[0m\u001b[0mmsg\u001b[0m\u001b[0;34m)\u001b[0m\u001b[0;34m\u001b[0m\u001b[0;34m\u001b[0m\u001b[0m\n\u001b[0m\u001b[1;32m    967\u001b[0m \u001b[0;34m\u001b[0m\u001b[0m\n\u001b[1;32m    968\u001b[0m     def assertNotAlmostEqual(self, first, second, places=None, msg=None,\n",
      "\u001b[0;31mAssertionError\u001b[0m: -44.937252044677734 != -36.642 within 0.01 delta (8.295252044677731 difference)"
     ]
    }
   ],
   "source": [
    "# Ensure deterministic run\n",
    "env = gym.make(ENV_NAME)\n",
    "env.seed(SEED)\n",
    "torch.manual_seed(SEED)\n",
    "\n",
    "def agent_fn():\n",
    "    # Use a simple \"network\" here, so that this test doesn't depend on\n",
    "    # your specific PolicyNet implementation\n",
    "    p_net_test = nn.Linear(ENV_N_OBSERVATIONS, ENV_N_ACTIONS, bias=True)\n",
    "    agent = hw4pg.PolicyAgent(env, p_net_test)\n",
    "    return agent\n",
    "\n",
    "dataloader = hw4data.TrainBatchDataset(agent_fn, gamma=0.9, episode_batch_size=4)\n",
    "\n",
    "test_batch = next(iter(dataloader))\n",
    "test_action_scores = torch.randn(len(test_batch), env.action_space.n)\n",
    "print(f\"{test_batch=}\", end='\\n\\n')\n",
    "print(f\"test_action_scores=\\n{test_action_scores}\\nshape={test_action_scores.shape}\", end='\\n\\n')\n",
    "\n",
    "loss_fn_p = hw4pg.VanillaPolicyGradientLoss()\n",
    "loss_p, _ = loss_fn_p(test_batch, test_action_scores)\n",
    "\n",
    "print(f'{loss_p=}')\n",
    "test.assertAlmostEqual(loss_p.item(), -36.642, delta=1e-2)"
   ]
  },
  {
   "cell_type": "markdown",
   "metadata": {},
   "source": [
    "#### Policy-gradient with baseline"
   ]
  },
  {
   "cell_type": "markdown",
   "metadata": {},
   "source": [
    "Another way to reduce the variance of our gradient is to use relative weighting of the log-policy instead of absolute reward values.\n",
    "$$\n",
    "\\hat\\grad\\mathcal{L}_{\\text{BPG}}(\\vec{\\theta})\n",
    "=-\\frac{1}{N}\\sum_{i=1}^{N}\\sum_{t\\geq0} \\left(\\hat{q}_{i,t}-b\\right) \\grad\\log \\pi_{\\vec{\\theta}}(a_{i,t}|s_{i,t}).\n",
    "$$\n",
    "In other words, we don't measure a trajectory's worth by it's total reward, but by how much better that total reward is relative to some\n",
    "expected (\"baseline\") reward value, denoted above by $b$.\n",
    "Note that subtracting a baseline has no effect on the expected value of the policy gradient. It's easy to prove this directly by definition.\n",
    "\n",
    "Here we'll implement a very simple baseline (not optimal in terms of variance reduction): the average of the estimated state-values $\\hat{q}_{i,t}$."
   ]
  },
  {
   "cell_type": "markdown",
   "metadata": {},
   "source": [
    "**TODO**: Complete the implementation of the `BaselinePolicyGradientLoss` class in the `hw4/rl_pg.py` module."
   ]
  },
  {
   "cell_type": "code",
   "execution_count": 15,
   "metadata": {},
   "outputs": [
    {
     "name": "stdout",
     "output_type": "stream",
     "text": [
      "loss_dict={'loss_p': -1.4580135345458984, 'baseline': -53.923744201660156}\n"
     ]
    },
    {
     "ename": "AssertionError",
     "evalue": "-53.923744201660156 != -22.191 within 0.01 delta (31.732744201660157 difference)",
     "output_type": "error",
     "traceback": [
      "\u001b[0;31m---------------------------------------------------------------------------\u001b[0m",
      "\u001b[0;31mAssertionError\u001b[0m                            Traceback (most recent call last)",
      "\u001b[0;32m<ipython-input-15-617ec0dcf946>\u001b[0m in \u001b[0;36m<module>\u001b[0;34m\u001b[0m\n\u001b[1;32m      4\u001b[0m \u001b[0;34m\u001b[0m\u001b[0m\n\u001b[1;32m      5\u001b[0m \u001b[0mprint\u001b[0m\u001b[0;34m(\u001b[0m\u001b[0;34mf'{loss_dict=}'\u001b[0m\u001b[0;34m)\u001b[0m\u001b[0;34m\u001b[0m\u001b[0;34m\u001b[0m\u001b[0m\n\u001b[0;32m----> 6\u001b[0;31m \u001b[0mtest\u001b[0m\u001b[0;34m.\u001b[0m\u001b[0massertAlmostEqual\u001b[0m\u001b[0;34m(\u001b[0m\u001b[0mloss_dict\u001b[0m\u001b[0;34m[\u001b[0m\u001b[0;34m'baseline'\u001b[0m\u001b[0;34m]\u001b[0m\u001b[0;34m,\u001b[0m \u001b[0;34m-\u001b[0m\u001b[0;36m22.191\u001b[0m\u001b[0;34m,\u001b[0m \u001b[0mdelta\u001b[0m\u001b[0;34m=\u001b[0m\u001b[0;36m1e-2\u001b[0m\u001b[0;34m)\u001b[0m\u001b[0;34m\u001b[0m\u001b[0;34m\u001b[0m\u001b[0m\n\u001b[0m\u001b[1;32m      7\u001b[0m \u001b[0mtest\u001b[0m\u001b[0;34m.\u001b[0m\u001b[0massertAlmostEqual\u001b[0m\u001b[0;34m(\u001b[0m\u001b[0mloss_p\u001b[0m\u001b[0;34m.\u001b[0m\u001b[0mitem\u001b[0m\u001b[0;34m(\u001b[0m\u001b[0;34m)\u001b[0m\u001b[0;34m,\u001b[0m \u001b[0;34m-\u001b[0m\u001b[0;36m0.278\u001b[0m\u001b[0;34m,\u001b[0m \u001b[0mdelta\u001b[0m\u001b[0;34m=\u001b[0m\u001b[0;36m1e-2\u001b[0m\u001b[0;34m)\u001b[0m\u001b[0;34m\u001b[0m\u001b[0;34m\u001b[0m\u001b[0m\n",
      "\u001b[0;32m~/miniconda3/envs/cs236781-hw/lib/python3.8/unittest/case.py\u001b[0m in \u001b[0;36massertAlmostEqual\u001b[0;34m(self, first, second, places, msg, delta)\u001b[0m\n\u001b[1;32m    964\u001b[0m                 safe_repr(diff))\n\u001b[1;32m    965\u001b[0m         \u001b[0mmsg\u001b[0m \u001b[0;34m=\u001b[0m \u001b[0mself\u001b[0m\u001b[0;34m.\u001b[0m\u001b[0m_formatMessage\u001b[0m\u001b[0;34m(\u001b[0m\u001b[0mmsg\u001b[0m\u001b[0;34m,\u001b[0m \u001b[0mstandardMsg\u001b[0m\u001b[0;34m)\u001b[0m\u001b[0;34m\u001b[0m\u001b[0;34m\u001b[0m\u001b[0m\n\u001b[0;32m--> 966\u001b[0;31m         \u001b[0;32mraise\u001b[0m \u001b[0mself\u001b[0m\u001b[0;34m.\u001b[0m\u001b[0mfailureException\u001b[0m\u001b[0;34m(\u001b[0m\u001b[0mmsg\u001b[0m\u001b[0;34m)\u001b[0m\u001b[0;34m\u001b[0m\u001b[0;34m\u001b[0m\u001b[0m\n\u001b[0m\u001b[1;32m    967\u001b[0m \u001b[0;34m\u001b[0m\u001b[0m\n\u001b[1;32m    968\u001b[0m     def assertNotAlmostEqual(self, first, second, places=None, msg=None,\n",
      "\u001b[0;31mAssertionError\u001b[0m: -53.923744201660156 != -22.191 within 0.01 delta (31.732744201660157 difference)"
     ]
    }
   ],
   "source": [
    "# Using the same batch and action_scores from above cell\n",
    "loss_fn_p = hw4pg.BaselinePolicyGradientLoss()\n",
    "loss_p, loss_dict = loss_fn_p(test_batch, test_action_scores)\n",
    "\n",
    "print(f'{loss_dict=}')\n",
    "test.assertAlmostEqual(loss_dict['baseline'], -22.191, delta=1e-2)\n",
    "test.assertAlmostEqual(loss_p.item(), -0.278, delta=1e-2)"
   ]
  },
  {
   "cell_type": "markdown",
   "metadata": {},
   "source": [
    "#### Entropy loss"
   ]
  },
  {
   "cell_type": "markdown",
   "metadata": {},
   "source": [
    "The entropy of a probability distribution (in our case the policy), is\n",
    "$$\n",
    "H(\\pi) = -\\sum_{a} \\pi(a|s)\\log\\pi(a|s).\n",
    "$$\n",
    "The entropy is always positive and obtains it's maximum for a uniform distribution.\n",
    "We'll use the entropy of the policy as a bonus, i.e. we'll try to maximize it.\n",
    "The idea is the prevent the policy distribution from becoming too narrow and thus promote the agent's exploration."
   ]
  },
  {
   "cell_type": "markdown",
   "metadata": {},
   "source": [
    "First, we'll calculate the maximal possible entropy value of the action distribution for a set number of possible actions.\n",
    "This will be used as a normalization term.\n",
    "\n",
    "**TODO**: Complete the implementation of the `calc_max_entropy()` method in the `ActionEntropyLoss` class."
   ]
  },
  {
   "cell_type": "code",
   "execution_count": 17,
   "metadata": {},
   "outputs": [
    {
     "ename": "NotImplementedError",
     "evalue": "",
     "output_type": "error",
     "traceback": [
      "\u001b[0;31m---------------------------------------------------------------------------\u001b[0m",
      "\u001b[0;31mNotImplementedError\u001b[0m                       Traceback (most recent call last)",
      "\u001b[0;32m<ipython-input-17-be1b50efdaba>\u001b[0m in \u001b[0;36m<module>\u001b[0;34m\u001b[0m\n\u001b[0;32m----> 1\u001b[0;31m \u001b[0mloss_fn_e\u001b[0m \u001b[0;34m=\u001b[0m \u001b[0mhw4pg\u001b[0m\u001b[0;34m.\u001b[0m\u001b[0mActionEntropyLoss\u001b[0m\u001b[0;34m(\u001b[0m\u001b[0menv\u001b[0m\u001b[0;34m.\u001b[0m\u001b[0maction_space\u001b[0m\u001b[0;34m.\u001b[0m\u001b[0mn\u001b[0m\u001b[0;34m)\u001b[0m\u001b[0;34m\u001b[0m\u001b[0;34m\u001b[0m\u001b[0m\n\u001b[0m\u001b[1;32m      2\u001b[0m \u001b[0mprint\u001b[0m\u001b[0;34m(\u001b[0m\u001b[0;34m'max_entropy = '\u001b[0m\u001b[0;34m,\u001b[0m \u001b[0mloss_fn_e\u001b[0m\u001b[0;34m.\u001b[0m\u001b[0mmax_entropy\u001b[0m\u001b[0;34m)\u001b[0m\u001b[0;34m\u001b[0m\u001b[0;34m\u001b[0m\u001b[0m\n\u001b[1;32m      3\u001b[0m \u001b[0;34m\u001b[0m\u001b[0m\n\u001b[1;32m      4\u001b[0m \u001b[0mtest\u001b[0m\u001b[0;34m.\u001b[0m\u001b[0massertAlmostEqual\u001b[0m\u001b[0;34m(\u001b[0m\u001b[0mloss_fn_e\u001b[0m\u001b[0;34m.\u001b[0m\u001b[0mmax_entropy\u001b[0m\u001b[0;34m,\u001b[0m \u001b[0;36m1.38629436\u001b[0m\u001b[0;34m,\u001b[0m \u001b[0mdelta\u001b[0m\u001b[0;34m=\u001b[0m\u001b[0;36m1e-3\u001b[0m\u001b[0;34m)\u001b[0m\u001b[0;34m\u001b[0m\u001b[0;34m\u001b[0m\u001b[0m\n",
      "\u001b[0;32m~/Development/Technion/Spring21/Deep-236781/DeepLearningHW4/hw4/rl_pg.py\u001b[0m in \u001b[0;36m__init__\u001b[0;34m(self, n_actions, beta)\u001b[0m\n\u001b[1;32m    246\u001b[0m         \"\"\"\n\u001b[1;32m    247\u001b[0m         \u001b[0msuper\u001b[0m\u001b[0;34m(\u001b[0m\u001b[0;34m)\u001b[0m\u001b[0;34m.\u001b[0m\u001b[0m__init__\u001b[0m\u001b[0;34m(\u001b[0m\u001b[0;34m)\u001b[0m\u001b[0;34m\u001b[0m\u001b[0;34m\u001b[0m\u001b[0m\n\u001b[0;32m--> 248\u001b[0;31m         \u001b[0mself\u001b[0m\u001b[0;34m.\u001b[0m\u001b[0mmax_entropy\u001b[0m \u001b[0;34m=\u001b[0m \u001b[0mself\u001b[0m\u001b[0;34m.\u001b[0m\u001b[0mcalc_max_entropy\u001b[0m\u001b[0;34m(\u001b[0m\u001b[0mn_actions\u001b[0m\u001b[0;34m)\u001b[0m\u001b[0;34m\u001b[0m\u001b[0;34m\u001b[0m\u001b[0m\n\u001b[0m\u001b[1;32m    249\u001b[0m         \u001b[0mself\u001b[0m\u001b[0;34m.\u001b[0m\u001b[0mbeta\u001b[0m \u001b[0;34m=\u001b[0m \u001b[0mbeta\u001b[0m\u001b[0;34m\u001b[0m\u001b[0;34m\u001b[0m\u001b[0m\n\u001b[1;32m    250\u001b[0m \u001b[0;34m\u001b[0m\u001b[0m\n",
      "\u001b[0;32m~/Development/Technion/Spring21/Deep-236781/DeepLearningHW4/hw4/rl_pg.py\u001b[0m in \u001b[0;36mcalc_max_entropy\u001b[0;34m(n_actions)\u001b[0m\n\u001b[1;32m    258\u001b[0m         \u001b[0;31m# TODO: Compute max_entropy.\u001b[0m\u001b[0;34m\u001b[0m\u001b[0;34m\u001b[0m\u001b[0;34m\u001b[0m\u001b[0m\n\u001b[1;32m    259\u001b[0m         \u001b[0;31m# ====== YOUR CODE: ======\u001b[0m\u001b[0;34m\u001b[0m\u001b[0;34m\u001b[0m\u001b[0;34m\u001b[0m\u001b[0m\n\u001b[0;32m--> 260\u001b[0;31m         \u001b[0;32mraise\u001b[0m \u001b[0mNotImplementedError\u001b[0m\u001b[0;34m(\u001b[0m\u001b[0;34m)\u001b[0m\u001b[0;34m\u001b[0m\u001b[0;34m\u001b[0m\u001b[0m\n\u001b[0m\u001b[1;32m    261\u001b[0m         \u001b[0;31m# ========================\u001b[0m\u001b[0;34m\u001b[0m\u001b[0;34m\u001b[0m\u001b[0;34m\u001b[0m\u001b[0m\n\u001b[1;32m    262\u001b[0m         \u001b[0;32mreturn\u001b[0m \u001b[0mmax_entropy\u001b[0m\u001b[0;34m\u001b[0m\u001b[0;34m\u001b[0m\u001b[0m\n",
      "\u001b[0;31mNotImplementedError\u001b[0m: "
     ]
    }
   ],
   "source": [
    "loss_fn_e = hw4pg.ActionEntropyLoss(env.action_space.n)\n",
    "print('max_entropy = ', loss_fn_e.max_entropy)\n",
    "\n",
    "test.assertAlmostEqual(loss_fn_e.max_entropy, 1.38629436, delta=1e-3)"
   ]
  },
  {
   "cell_type": "markdown",
   "metadata": {},
   "source": [
    "**TODO**: Complete the implementation of the `forward()` method in the `ActionEntropyLoss` class."
   ]
  },
  {
   "cell_type": "code",
   "execution_count": null,
   "metadata": {},
   "outputs": [],
   "source": [
    "loss_e, _ = loss_fn_e(test_batch, test_action_scores)\n",
    "print('loss = ', loss_e)\n",
    "\n",
    "test.assertAlmostEqual(loss_e.item(), -0.8103, delta=1e-2)"
   ]
  },
  {
   "cell_type": "markdown",
   "metadata": {},
   "source": [
    "### Training"
   ]
  },
  {
   "cell_type": "markdown",
   "metadata": {},
   "source": [
    "We'll implement our training procedure as follows:\n",
    "\n",
    "1. Initialize the current policy to be a random policy.\n",
    "1. Sample $N$ trajectories from the environment using the current policy.\n",
    "2. Calculate the estimated $q$-values, $\\hat{q}_{i,t} = \\sum_{t'\\geq t} \\gamma^{t'}r_{i,t'+1}$ for each trajectory $i$.\n",
    "3. Calculate policy gradient estimate $\\hat\\grad\\mathcal{L}(\\vec{\\theta})$ as defined above.\n",
    "4. Perform SGD update $\\vec{\\theta}\\leftarrow\\vec{\\theta}-\\eta\\hat\\grad\\mathcal{L}(\\vec{\\theta})$.\n",
    "5. Repeat from step 2.\n",
    "\n",
    "This is known as the **REINFORCE** algorithm."
   ]
  },
  {
   "cell_type": "markdown",
   "metadata": {},
   "source": [
    "Fortunately, we've already implemented everything we need for steps 1-4 so we need only a bit more code to put it all together.\n",
    "\n",
    "The following block implements a wrapper, `train_pg` to create all the objects we need in order to train our policy gradient model.\n"
   ]
  },
  {
   "cell_type": "code",
   "execution_count": null,
   "metadata": {},
   "outputs": [],
   "source": [
    "import hw4.answers\n",
    "from functools import partial\n",
    "\n",
    "ENV_NAME = \"Beresheet-v2\"\n",
    "\n",
    "def agent_fn_train(agent_type, p_net, seed, envs_dict):\n",
    "    winfo = torch.utils.data.get_worker_info()\n",
    "    wid = winfo.id if winfo else 0\n",
    "    seed = seed + wid if seed else wid\n",
    "\n",
    "    env = gym.make(ENV_NAME)\n",
    "    envs_dict[wid] = env\n",
    "    env.seed(seed)\n",
    "    np.random.seed(seed)\n",
    "    torch.manual_seed(seed)\n",
    "\n",
    "    return agent_type(env, p_net)\n",
    "\n",
    "def train_rl(agent_type, net_type, loss_fns, hp, seed=None, checkpoints_file=None, **train_kw):\n",
    "    print(f'hyperparams: {hp}')\n",
    "    \n",
    "    envs = {}\n",
    "    p_net = net_type(ENV_N_OBSERVATIONS, ENV_N_ACTIONS, **hp)\n",
    "    p_net.share_memory()\n",
    "    agent_fn = partial(agent_fn_train, agent_type, p_net, seed, envs)\n",
    "    \n",
    "    dataset = hw4data.TrainBatchDataset(agent_fn, hp['batch_size'], hp['gamma'])\n",
    "    dataloader = DataLoader(\n",
    "        dataset, batch_size=None, num_workers=hp['num_workers'],\n",
    "        multiprocessing_context='fork' if hp['num_workers'] > 0 else None\n",
    "    )\n",
    "    optimizer = optim.Adam(p_net.parameters(), lr=hp['learn_rate'], eps=hp['eps'])\n",
    "    \n",
    "    trainer = hw4pg.PolicyTrainer(p_net, optimizer, loss_fns, dataloader, checkpoints_file)\n",
    "    try:\n",
    "        trainer.train(**train_kw)\n",
    "    except KeyboardInterrupt as e:\n",
    "        print('Training interrupted by user.')\n",
    "    finally:\n",
    "        for env in envs.values():\n",
    "            env.close()\n",
    "\n",
    "    # Include final model state\n",
    "    training_data = trainer.training_data\n",
    "    training_data['model_state'] = p_net.state_dict()\n",
    "    return training_data\n",
    "    \n",
    "def train_pg(baseline=False, entropy=False, **train_kwargs):\n",
    "    hp = hw4.answers.part1_pg_hyperparams()\n",
    "    \n",
    "    loss_fns = []\n",
    "    if baseline:\n",
    "        loss_fns.append(hw4pg.BaselinePolicyGradientLoss())\n",
    "    else:\n",
    "        loss_fns.append(hw4pg.VanillaPolicyGradientLoss())\n",
    "    if entropy:\n",
    "        loss_fns.append(hw4pg.ActionEntropyLoss(ENV_N_ACTIONS, hp['beta']))\n",
    "\n",
    "    return train_rl(hw4pg.PolicyAgent, hw4pg.PolicyNet, loss_fns, hp, **train_kwargs)"
   ]
  },
  {
   "cell_type": "markdown",
   "metadata": {},
   "source": [
    "The `PolicyTrainer` class implements the training loop, collects the losses and rewards and provides some useful checkpointing functionality.\n",
    "The training loop will generate batches of episodes and train on them until either:\n",
    "- The average total reward from the last `running_mean_len` episodes is greater than the `target_reward`, OR\n",
    "- The number of generated episodes reached `max_episodes`.\n",
    "\n",
    "Most of this class is already implemented for you. "
   ]
  },
  {
   "cell_type": "markdown",
   "metadata": {},
   "source": [
    "**TODO**:\n",
    "1. Complete the training loop by implementing the `train_batch()` method of the `PolicyTrainer`.\n",
    "2. Tweak the hyperparameters in the `part1_pg_hyperparams()` function within the `hw4/answers.py` module as needed. You get some sane defaults."
   ]
  },
  {
   "cell_type": "markdown",
   "metadata": {},
   "source": [
    "Let's check whether our model is actually training.\n",
    "We'll try to reach a very low (bad) target reward, just as a sanity check to see that training works.\n",
    "Your model should be able to reach this target reward within a few batches.\n",
    "\n",
    "You can increase the target reward and use this block to manually tweak your model and hyperparameters a few times."
   ]
  },
  {
   "cell_type": "code",
   "execution_count": null,
   "metadata": {},
   "outputs": [],
   "source": [
    "target_reward = -140 # VERY LOW target\n",
    "train_data = train_pg(target_reward=target_reward, seed=SEED, max_episodes=2000, running_mean_len=10)\n",
    "\n",
    "test.assertGreater(train_data['mean_reward'][-1], target_reward)"
   ]
  },
  {
   "cell_type": "markdown",
   "metadata": {},
   "source": [
    "### Experimenting with different losses"
   ]
  },
  {
   "cell_type": "markdown",
   "metadata": {},
   "source": [
    "We'll now run a few experiments to see the effect of diferent loss functions on the training dynamics. Namely, we'll try:\n",
    "1. Vanilla PG (`vpg`): No baseline, no entropy\n",
    "2. Baseline PG (`bpg`): Baseline, no entropy loss\n",
    "3. Entropy PG (`epg`): No baseline, with entropy loss\n",
    "3. Combined PG (`cpg`): Baseline, with entropy loss"
   ]
  },
  {
   "cell_type": "code",
   "execution_count": null,
   "metadata": {},
   "outputs": [],
   "source": [
    "from collections import namedtuple\n",
    "from pprint import pprint\n",
    "import itertools as it\n",
    "\n",
    "\n",
    "ExpConfig = namedtuple('ExpConfig', ('name','baseline','entropy'))\n",
    "\n",
    "def exp_configs():\n",
    "#     exp_names = ('vpg', 'epg', 'bpg', 'cpg')\n",
    "    exp_names = (['vpg'])\n",
    "    z = zip(exp_names, it.product((False, True), (False, True)))\n",
    "    return (ExpConfig(n, b, e) for (n, (b, e)) in z)\n",
    "\n",
    "pprint(list(exp_configs()))"
   ]
  },
  {
   "cell_type": "markdown",
   "metadata": {},
   "source": [
    "We'll save the training data from each experiment for plotting."
   ]
  },
  {
   "cell_type": "code",
   "execution_count": null,
   "metadata": {},
   "outputs": [],
   "source": [
    "import pickle\n",
    "\n",
    "def dump_training_data(data, filename):\n",
    "    os.makedirs(os.path.dirname(filename), exist_ok=True)\n",
    "    with open(filename, mode='wb') as file:\n",
    "        pickle.dump(data, file)\n",
    "        \n",
    "def load_training_data(filename):\n",
    "    with open(filename, mode='rb') as file:\n",
    "        return pickle.load(file)"
   ]
  },
  {
   "cell_type": "markdown",
   "metadata": {},
   "source": [
    "Let's run the experiments! We'll run each configuration for a fixed number of episodes so that we can compare them.\n",
    "\n",
    "Notes:\n",
    "1. Until your models start working, you can decrease the number of episodes for each experiment, or only run one experiment.\n",
    "2.  The results will be saved in a file. To re-run the experiments, you can set `force_run` to `True`."
   ]
  },
  {
   "cell_type": "code",
   "execution_count": null,
   "metadata": {},
   "outputs": [],
   "source": [
    "import math\n",
    "\n",
    "exp_max_episodes = 4000\n",
    "\n",
    "results = {}\n",
    "training_data_filename = os.path.join('results', f'part1_exp.dat')\n",
    "\n",
    "# Set to True to force re-run (careful! will delete old experiment results)\n",
    "force_run = False\n",
    "\n",
    "# Skip running if results file exists.\n",
    "if os.path.isfile(training_data_filename) and not force_run:\n",
    "    print(f'=== results file {training_data_filename} exists, skipping experiments.')\n",
    "    results = load_training_data(training_data_filename)\n",
    "    \n",
    "else:\n",
    "    for n, b, e in exp_configs():\n",
    "        print(f'=== Experiment {n}')\n",
    "        results[n] = train_pg(baseline=b, entropy=e, max_episodes=exp_max_episodes, post_batch_fn=None)\n",
    "        \n",
    "    dump_training_data(results, training_data_filename)"
   ]
  },
  {
   "cell_type": "code",
   "execution_count": null,
   "metadata": {},
   "outputs": [],
   "source": [
    "def plot_experiment_results(results, fig=None):\n",
    "    if fig is None:\n",
    "        fig, _ = plt.subplots(nrows=2, ncols=2, sharex=True, figsize=(18,12))\n",
    "    for i, plot_type in enumerate(('loss_p', 'baseline', 'loss_e', 'mean_reward')):\n",
    "        ax = fig.axes[i]\n",
    "        for exp_name, exp_res in results.items():\n",
    "            if plot_type not in exp_res:\n",
    "                continue\n",
    "            ax.plot(exp_res['episode_num'], exp_res[plot_type], label=exp_name)\n",
    "        ax.set_title(plot_type)\n",
    "        ax.set_xlabel('episode')\n",
    "        ax.legend()\n",
    "    return fig\n",
    "    \n",
    "experiments_results_fig = plot_experiment_results(results)"
   ]
  },
  {
   "cell_type": "markdown",
   "metadata": {},
   "source": [
    "You should see positive training dynamics in the graphs (reward going up).\n",
    "If you don't, use them to further update your model or hyperparams.\n",
    "\n",
    "To pass the test, you'll need to get a best total mean reward of at least 10 in the fixed number of epochs using the combined loss.\n",
    "It's possible to get much higher (over 100)."
   ]
  },
  {
   "cell_type": "code",
   "execution_count": null,
   "metadata": {},
   "outputs": [],
   "source": [
    "best_cpg_mean_reward = max(results['cpg']['mean_reward'])\n",
    "print(f'Best CPG mean reward: {best_cpg_mean_reward:.2f}')\n",
    "\n",
    "test.assertGreater(best_cpg_mean_reward, 10)"
   ]
  },
  {
   "cell_type": "markdown",
   "metadata": {},
   "source": [
    "Now let's take a look at a gameplay video of our `cpg` model after the short training!"
   ]
  },
  {
   "cell_type": "code",
   "execution_count": null,
   "metadata": {},
   "outputs": [],
   "source": [
    "hp = hw4.answers.part1_pg_hyperparams()\n",
    "p_net_cpg = hw4pg.PolicyNet.build_for_env(env, **hp)\n",
    "p_net_cpg.load_state_dict(results['cpg']['model_state'])\n",
    "\n",
    "env, n_steps, reward = hw4pg.PolicyAgent.monitor_episode(ENV_NAME, p_net_cpg)\n",
    "print(f'{n_steps} steps, total reward: {reward:.2f}')\n",
    "show_monitor_video(env)"
   ]
  },
  {
   "cell_type": "markdown",
   "metadata": {},
   "source": [
    "## Advantage Actor-Critic (AAC)\n",
    "<a id=part1_2></a>"
   ]
  },
  {
   "cell_type": "markdown",
   "metadata": {},
   "source": [
    "We have seen that the policy-gradient loss can be interpreted as a log-likelihood of the policy term\n",
    "(selecting a specific action at a specific state), weighted by the future rewards of that choice of action.\n",
    "\n",
    "However, naïvely weighting by rewards has significant drawbacks in terms of the variance of the resulting gradient.\n",
    "We addressed this by adding a simple baseline term which represented our \"expected reward\" so that we increase probability of actions\n",
    "leading to trajectories which exceed this expectation and vice-versa.\n",
    "\n",
    "In this part we'll explore a more powerful baseline, which is the idea behind the AAC method."
   ]
  },
  {
   "cell_type": "markdown",
   "metadata": {},
   "source": [
    "### The advantage function"
   ]
  },
  {
   "cell_type": "markdown",
   "metadata": {},
   "source": [
    "Recall the definition of the state-value function $v_{\\pi}(s)$ and action-value function $q_{\\pi}(s,a)$:\n",
    "\n",
    "$$\n",
    "\\begin{align}\n",
    "v_{\\pi}(s) &= \\E{g(\\tau)|s_0 = s,\\pi} \\\\\n",
    "q_{\\pi}(s,a) &= \\E{g(\\tau)|s_0 = s,a_0=a,\\pi}.\n",
    "\\end{align}\n",
    "$$\n",
    "\n",
    "Both these functions represent the value of the state $s$. However, $v_\\pi$ averages over the first action according to the policy,\n",
    "while $q_\\pi$ fixes the first action and then continues according to the policy."
   ]
  },
  {
   "cell_type": "markdown",
   "metadata": {},
   "source": [
    "Their difference is known as the **advantage function**:\n",
    "$$\n",
    "a_\\pi(s,a) = q_\\pi(s,a)-v_\\pi(s).\n",
    "$$\n",
    "\n",
    "If $a_\\pi(s,a)>0$ it means that it's better (in expectation) to take action $a$ in state $s$ compared to the average action.\n",
    "In other words, $a_\\pi(s,a)$ represents the *advantage* of using action $a$ in state $s$ compared to the others."
   ]
  },
  {
   "cell_type": "markdown",
   "metadata": {},
   "source": [
    "So far we have used an estimate for $q_\\pi$ as our weighting term for the log-policy, with a fixed baseline per batch.\n",
    "\n",
    "$$\n",
    "\\hat\\grad\\mathcal{L}_{\\text{BPG}}(\\vec{\\theta})\n",
    "=-\\frac{1}{N}\\sum_{i=1}^{N}\\sum_{t\\geq0} \\left(\\hat{q}_{i,t}-b\\right) \\grad\\log \\pi_{\\vec{\\theta}}(a_{i,t}|s_{i,t}).\n",
    "$$\n"
   ]
  },
  {
   "cell_type": "markdown",
   "metadata": {},
   "source": [
    "Now, we will use the state value as a baseline, so that an estimate of the advantage function is our weighting term:\n",
    "\n",
    "$$\n",
    "\\hat\\grad\\mathcal{L}_{\\text{AAC}}(\\vec{\\theta})\n",
    "=-\\frac{1}{N}\\sum_{i=1}^{N}\\sum_{t\\geq0} \\left(\\hat{q}_{i,t}-v_\\pi(s_t)\\right) \\grad\\log \\pi_{\\vec{\\theta}}(a_{i,t}|s_{i,t}).\n",
    "$$\n",
    "\n",
    "Intuitively, using the advantage function makes sense because it means we're weighting our policy's actions according to\n",
    "how advantageous they are compared to other possible actions."
   ]
  },
  {
   "cell_type": "markdown",
   "metadata": {},
   "source": [
    "But how will we know $v_\\pi(s)$? We'll learn it of course, using another neural network.\n",
    "This is known as actor-critic learning. We simultaneously learn the policy (actor) and the value of states (critic).\n",
    "We'll treat it as a regression task: given a state $s_t$, our state-value network will output $\\hat{v}_\\pi(s_t)$,\n",
    "an estimate of the actual unknown state-value.\n",
    "Our regression targets will be the discounted rewards, $\\hat{q}_{i,t}$ (see question 2),\n",
    "and we can use a simple MSE as the loss function,\n",
    "$$\n",
    "\\mathcal{L}_{\\text{SV}} = \\frac{1}{N}\\sum_{i=1}^{N}\\sum_{t\\geq0}\\left(\\hat{v}_\\pi(s_t) - \\hat{q}_{i,t}\\right)^2.\n",
    "$$\n"
   ]
  },
  {
   "cell_type": "markdown",
   "metadata": {},
   "source": [
    "### Implementation"
   ]
  },
  {
   "cell_type": "markdown",
   "metadata": {},
   "source": [
    "We'll build heavily on our implementation of the regular policy-gradient method, and just add a new model class and a new loss class, with a small modification to the agent."
   ]
  },
  {
   "cell_type": "markdown",
   "metadata": {},
   "source": [
    "Let's start with the model. It will accept a state, and return action scores (as before), but also the value of that state.\n",
    "You can experiment with a dual-head network that has a shared base, or implement two separate parts within the network.\n",
    "\n",
    "**TODO**:\n",
    "1. Implement the model as the `AACPolicyNet` class in the `hw4/rl_ac.py` module.\n",
    "1. Set the hyperparameters in the `part1_aac_hyperparams()` function of the `hw4.answers` module."
   ]
  },
  {
   "cell_type": "code",
   "execution_count": null,
   "metadata": {},
   "outputs": [],
   "source": [
    "import hw4.rl_ac as hw4ac\n",
    "\n",
    "hp = hw4.answers.part1_aac_hyperparams()\n",
    "pv_net = hw4ac.AACPolicyNet.build_for_env(env, device, **hp)\n",
    "pv_net"
   ]
  },
  {
   "cell_type": "markdown",
   "metadata": {},
   "source": [
    "**TODO**: Complete the implementation of the agent class, `AACPolicyAgent`, in the `hw4/rl_ac.py` module."
   ]
  },
  {
   "cell_type": "code",
   "execution_count": null,
   "metadata": {},
   "outputs": [],
   "source": [
    "agent = hw4ac.AACPolicyAgent(env, pv_net, device)\n",
    "exp = agent.step()\n",
    "\n",
    "test.assertIsInstance(exp, hw4pg.Experience)\n",
    "print(exp)"
   ]
  },
  {
   "cell_type": "markdown",
   "metadata": {},
   "source": [
    "**TODO**: Implement the AAC loss function as the class `AACPolicyGradientLoss` in the `hw4/rl_ac.py` module."
   ]
  },
  {
   "cell_type": "code",
   "execution_count": null,
   "metadata": {},
   "outputs": [],
   "source": [
    "loss_fn_aac = hw4ac.AACPolicyGradientLoss(delta=1.)\n",
    "test_state_values = torch.ones(test_action_scores.shape[0], 1)\n",
    "loss_t, loss_dict = loss_fn_aac(test_batch, (test_action_scores, test_state_values))\n",
    "\n",
    "print(f'{loss_dict=}')\n",
    "test.assertAlmostEqual(loss_dict['adv_m'], -23.191, delta=1e-2)\n",
    "test.assertAlmostEqual(loss_t.item(), 1183.948, delta=1e-2)"
   ]
  },
  {
   "cell_type": "markdown",
   "metadata": {},
   "source": [
    "### Experimentation"
   ]
  },
  {
   "cell_type": "markdown",
   "metadata": {},
   "source": [
    "Let's run the same experiment as before, but with the AAC method and compare the results."
   ]
  },
  {
   "cell_type": "code",
   "execution_count": null,
   "metadata": {},
   "outputs": [],
   "source": [
    "def train_aac(baseline=False, entropy=False, **train_kwargs):\n",
    "    hp = hw4.answers.part1_aac_hyperparams()\n",
    "    loss_fns = [hw4ac.AACPolicyGradientLoss(hp['delta']), hw4pg.ActionEntropyLoss(ENV_N_ACTIONS, hp['beta'])]\n",
    "    return train_rl(hw4ac.AACPolicyAgent, hw4ac.AACPolicyNet, loss_fns, hp, **train_kwargs)"
   ]
  },
  {
   "cell_type": "code",
   "execution_count": null,
   "metadata": {},
   "outputs": [],
   "source": [
    "training_data_filename = os.path.join('results', f'part1_exp_aac.dat')\n",
    "\n",
    "# Set to True to force re-run (careful, will delete old experiment results)\n",
    "force_run = False\n",
    "\n",
    "if os.path.isfile(training_data_filename) and not force_run:\n",
    "    print(f'=== results file {training_data_filename} exists, skipping experiments.')\n",
    "    results_aac = load_training_data(training_data_filename)\n",
    "    \n",
    "else:\n",
    "    print(f'=== Running AAC experiment')\n",
    "    training_data = train_aac(max_episodes=exp_max_episodes)\n",
    "    results_aac = dict(aac=training_data)\n",
    "    dump_training_data(results_aac, training_data_filename)"
   ]
  },
  {
   "cell_type": "code",
   "execution_count": null,
   "metadata": {},
   "outputs": [],
   "source": [
    "experiments_results_fig = plot_experiment_results(results)\n",
    "plot_experiment_results(results_aac, fig=experiments_results_fig);"
   ]
  },
  {
   "cell_type": "markdown",
   "metadata": {},
   "source": [
    "You should get better results with the AAC method, so this time the bar is higher (again, you should aim for a mean reward of 100+).\n",
    "Compare the graphs with combined PG method and see if they make sense."
   ]
  },
  {
   "cell_type": "code",
   "execution_count": null,
   "metadata": {},
   "outputs": [],
   "source": [
    "best_aac_mean_reward = max(results_aac['aac']['mean_reward'])\n",
    "print(f'Best AAC mean reward: {best_aac_mean_reward:.2f}')\n",
    "\n",
    "test.assertGreater(best_aac_mean_reward, 50)"
   ]
  },
  {
   "cell_type": "markdown",
   "metadata": {},
   "source": [
    "### Final model training and visualization"
   ]
  },
  {
   "cell_type": "markdown",
   "metadata": {},
   "source": [
    "Now, using your best model and hyperparams, let's train model for much longer and see the performance.\n",
    "Just for fun, we'll also visualize an episode every now and then so that we can see how well the agent is playing."
   ]
  },
  {
   "cell_type": "markdown",
   "metadata": {},
   "source": [
    "**TODO**:\n",
    "- Run the following block to train.\n",
    "- Tweak model or hyperparams as necessary.\n",
    "- Aim for high mean reward, at least 150+. It's possible to get over 200.\n",
    "- When training is done and you're satisfied with the model's outputs, rename the checkpoint file by adding `_final` to the file name.\n",
    "  This will cause the block to skip training and instead load your saved model when running the homework submission script.\n",
    "  Note that your submission zip file will not include the checkpoint file. This is OK."
   ]
  },
  {
   "cell_type": "code",
   "execution_count": null,
   "metadata": {},
   "outputs": [],
   "source": [
    "import IPython.display\n",
    "\n",
    "CHECKPOINTS_FILE = f'checkpoints/{ENV_NAME}-ac.dat'\n",
    "CHECKPOINTS_FILE_FINAL = f'checkpoints/{ENV_NAME}-ac_final.dat'\n",
    "TARGET_REWARD = 125\n",
    "MAX_EPISODES = 15_000\n",
    "\n",
    "def post_batch_fn(batch_idx, p_net, batch, print_every=20, final=False):\n",
    "    if not final and batch_idx % print_every != 0:\n",
    "        return\n",
    "    env, n_steps, reward = hw4ac.AACPolicyAgent.monitor_episode(ENV_NAME, p_net)\n",
    "    html = show_monitor_video(env, width=\"500\")\n",
    "    IPython.display.clear_output(wait=True)\n",
    "    print(f'Monitor@#{batch_idx}: n_steps={n_steps}, total_reward={reward:.3f}, final={final}')\n",
    "    IPython.display.display_html(html)\n",
    "    \n",
    "    \n",
    "if os.path.isfile(CHECKPOINTS_FILE_FINAL):\n",
    "    print(f'=== {CHECKPOINTS_FILE_FINAL} exists, skipping training...')\n",
    "    checkpoint_data = torch.load(CHECKPOINTS_FILE_FINAL)\n",
    "    hp = hw4.answers.part1_aac_hyperparams()\n",
    "    pv_net = hw4ac.AACPolicyNet.build_for_env(env, **hp)\n",
    "    pv_net.load_state_dict(checkpoint_data['params'])\n",
    "    print(f'=== Running best model...')\n",
    "    env, n_steps, reward = hw4ac.AACPolicyAgent.monitor_episode(ENV_NAME, pv_net)\n",
    "    print(f'=== Best model ran for {n_steps} steps. Total reward: {reward:.2f}')\n",
    "    IPython.display.display_html(show_monitor_video(env))\n",
    "    best_mean_reward = checkpoint_data[\"best_mean_reward\"]\n",
    "else:\n",
    "    print(f'=== Starting training...')\n",
    "    train_data = train_aac(TARGET_REWARD, max_episodes=MAX_EPISODES,\n",
    "                           seed=None, checkpoints_file=CHECKPOINTS_FILE, post_batch_fn=post_batch_fn)\n",
    "    print(f'=== Done, ', end='')\n",
    "    best_mean_reward = train_data[\"best_mean_reward\"][-1]\n",
    "    print(f'num_episodes={train_data[\"episode_num\"][-1]}, best_mean_reward={best_mean_reward:.1f}')\n",
    "          \n",
    "test.assertGreaterEqual(best_mean_reward, TARGET_REWARD)"
   ]
  },
  {
   "cell_type": "markdown",
   "metadata": {},
   "source": [
    "## Questions\n",
    "<a id=part1_3></a>"
   ]
  },
  {
   "cell_type": "markdown",
   "metadata": {},
   "source": [
    "**TODO**: Answer the following questions. Write your answers in the appropriate variables in the module `hw4/answers.py`."
   ]
  },
  {
   "cell_type": "code",
   "execution_count": null,
   "metadata": {},
   "outputs": [],
   "source": [
    "from cs236781.answers import display_answer\n",
    "import hw4.answers"
   ]
  },
  {
   "cell_type": "markdown",
   "metadata": {},
   "source": [
    "### Question 1\n",
    "\n",
    "Explain qualitatively why subtracting a baseline in the policy-gradient helps reduce it's variance.\n",
    "Specifically, give an example where it helps."
   ]
  },
  {
   "cell_type": "code",
   "execution_count": null,
   "metadata": {},
   "outputs": [],
   "source": [
    "display_answer(hw4.answers.part1_q1)"
   ]
  },
  {
   "cell_type": "markdown",
   "metadata": {},
   "source": [
    "### Question 2\n",
    "\n",
    "In AAC, when using the estimated q-values as regression targets for our state-values, why do we get a valid approximation?\n",
    "Hint: how is $v_\\pi(s)$ expressed in terms of $q_\\pi(s,a)$?"
   ]
  },
  {
   "cell_type": "code",
   "execution_count": null,
   "metadata": {},
   "outputs": [],
   "source": [
    "display_answer(hw4.answers.part1_q2)"
   ]
  },
  {
   "cell_type": "markdown",
   "metadata": {},
   "source": [
    "### Question 3\n",
    "\n",
    "1. Analyze and explain the graphs you got in first experiment run.\n",
    "2. Compare the experiment graphs you got with the AAC method to the regular PG method (`cpg`)."
   ]
  },
  {
   "cell_type": "code",
   "execution_count": null,
   "metadata": {},
   "outputs": [],
   "source": [
    "display_answer(hw4.answers.part1_q3)"
   ]
  }
 ],
 "metadata": {
  "kernelspec": {
   "display_name": "Python 3",
   "language": "python",
   "name": "python3"
  },
  "language_info": {
   "codemirror_mode": {
    "name": "ipython",
    "version": 3
   },
   "file_extension": ".py",
   "mimetype": "text/x-python",
   "name": "python",
   "nbconvert_exporter": "python",
   "pygments_lexer": "ipython3",
   "version": "3.8.6"
  }
 },
 "nbformat": 4,
 "nbformat_minor": 4
}
