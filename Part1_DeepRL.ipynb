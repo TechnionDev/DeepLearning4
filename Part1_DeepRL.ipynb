{
 "cells": [
  {
   "cell_type": "markdown",
   "metadata": {},
   "source": [
    "$$\n",
    "\\newcommand{\\mat}[1]{\\boldsymbol {#1}}\n",
    "\\newcommand{\\mattr}[1]{\\boldsymbol {#1}^\\top}\n",
    "\\newcommand{\\matinv}[1]{\\boldsymbol {#1}^{-1}}\n",
    "\\newcommand{\\vec}[1]{\\boldsymbol {#1}}\n",
    "\\newcommand{\\vectr}[1]{\\boldsymbol {#1}^\\top}\n",
    "\\newcommand{\\rvar}[1]{\\mathrm {#1}}\n",
    "\\newcommand{\\rvec}[1]{\\boldsymbol{\\mathrm{#1}}}\n",
    "\\newcommand{\\diag}{\\mathop{\\mathrm {diag}}}\n",
    "\\newcommand{\\set}[1]{\\mathbb {#1}}\n",
    "\\newcommand{\\cset}[1]{\\mathcal{#1}}\n",
    "\\newcommand{\\norm}[1]{\\left\\lVert#1\\right\\rVert}\n",
    "\\newcommand{\\pderiv}[2]{\\frac{\\partial #1}{\\partial #2}}\n",
    "\\newcommand{\\bb}[1]{\\boldsymbol{#1}}\n",
    "\\newcommand{\\E}[2][]{\\mathbb{E}_{#1}\\left[#2\\right]}\n",
    "\\newcommand{\\ip}[3]{\\left<#1,#2\\right>_{#3}}\n",
    "\\newcommand{\\given}[]{\\,\\middle\\vert\\,}\n",
    "\\newcommand{\\DKL}[2]{\\cset{D}_{\\text{KL}}\\left(#1\\,\\Vert\\, #2\\right)}\n",
    "\\newcommand{\\grad}[]{\\nabla}\n",
    "$$\n",
    "# Part 1: Deep Reinforcement Learning\n",
    "<a id=part1></a>"
   ]
  },
  {
   "cell_type": "markdown",
   "metadata": {},
   "source": [
    "In the tutorial we have seen value-based reinforcement learning, in which we learn to approximate the action-value function $q(s,a)$.\n",
    "\n",
    "In this exercise we'll explore a different approach, directly learning the agent's policy distribution, $\\pi(a|s)$\n",
    "by using *policy gradients*, in order to safely land on the moon!"
   ]
  },
  {
   "cell_type": "code",
   "execution_count": 1,
   "metadata": {},
   "outputs": [],
   "source": [
    "%load_ext autoreload\n",
    "%autoreload 2\n",
    "%matplotlib inline\n",
    "\n",
    "import unittest\n",
    "import os\n",
    "import sys\n",
    "import pathlib\n",
    "import urllib\n",
    "import shutil\n",
    "import re\n",
    "\n",
    "import numpy as np\n",
    "import torch\n",
    "import torch.nn as nn\n",
    "import torch.optim as optim\n",
    "import matplotlib.pyplot as plt"
   ]
  },
  {
   "cell_type": "code",
   "execution_count": 2,
   "metadata": {},
   "outputs": [
    {
     "name": "stdout",
     "output_type": "stream",
     "text": [
      "Using device: cpu\n"
     ]
    }
   ],
   "source": [
    "test = unittest.TestCase()\n",
    "plt.rcParams.update({'font.size': 12})\n",
    "device = torch.device('cuda' if torch.cuda.is_available() else 'cpu')\n",
    "\n",
    "# Prefer CPU, GPU won't help much in this assignment\n",
    "device = 'cpu'\n",
    "print('Using device:', device)\n",
    "\n",
    "# Seed for deterministic tests\n",
    "SEED = 42"
   ]
  },
  {
   "cell_type": "markdown",
   "metadata": {},
   "source": [
    "Some technical notes before we begin:\n",
    "\n",
    "- This part does not require a GPU. We won't need large models, and the computation bottleneck will be the generation of episodes to train on.\n",
    "- In order to run this notebook on the server, you must prepend the `xvfb-run` command to create a virtual screen. For example,\n",
    "    - to run this notebook with `srun` do\n",
    "        ```\n",
    "        srun -c2 --gres=gpu:1 xvfb-run -a -s \"-screen 0 1440x900x24\" python main.py run-nb <filename>\n",
    "        ```\n",
    "    - To run the submission script, do\n",
    "        ```\n",
    "        srun -c2 xvfb-run -a -s \"-screen 0 1440x900x24\" python main.py prepare-submission ...\n",
    "        ```\n",
    "    - note that we have already included the `xvfb-run` command inside the `jupyter-lab.sh` script, so you can use it as usual with `srun`.\n",
    "    and so on.\n",
    "- The OpenAI `gym` library is not officially supported on windows. However it should be possible to install and run the necessary environment for this exercise. However, we cannot provide you with technical support for this. If you have trouble installing locally, we suggest running on the course server."
   ]
  },
  {
   "cell_type": "markdown",
   "metadata": {},
   "source": [
    "## Policy gradients\n",
    "<a id=part1_1></a>"
   ]
  },
  {
   "cell_type": "markdown",
   "metadata": {},
   "source": [
    "Recall from the tutorial that we define the **policy** of an agent as the conditional distribution,\n",
    "$$\n",
    "\\pi(a|s) = \\Pr(a_t=a\\vert s_t=s),\n",
    "$$\n",
    "which defines how likely the agent is to take action $a$ at state $s$.\n",
    "\n",
    "Furthermore we define the action-value function,\n",
    "$$\n",
    "q_{\\pi}(s,a) = \\E{g_t(\\tau)|s_t = s,a_t=a,\\pi}\n",
    "$$\n",
    "where \n",
    "$$\n",
    "g_t(\\tau) = r_{t+1}+\\gamma r_{t+2} + \\dots = \\sum_{k=0}^{\\infty} \\gamma^k r_{t+1+k},\n",
    "$$\n",
    "is the total discounted reward of a specific trajectory $\\tau$ from time $t$, and the expectation in $q$ is over all possible\n",
    "trajectories,\n",
    "$\n",
    "\\tau=\\left\\{ (s_0,a_0,r_1,s_1), \\dots (s_T,a_T,r_{T+1},s_{T+1}) \\right\\}.\n",
    "$"
   ]
  },
  {
   "cell_type": "markdown",
   "metadata": {},
   "source": [
    "In the tutorial we saw that we can learn a value function starting with some random function and\n",
    "updating it iteratively by using the **Bellman optimality equation**.\n",
    "Given that we have some action-value function, we can immediately create a policy based on that\n",
    "by simply selecting an action which maximize the action-value at the current state, i.e.\n",
    "$$\n",
    "\\pi(a|s) =\n",
    "\\begin{cases}\n",
    "1, & a = \\arg\\max_{a'\\in\\cset{A}} q(s,a') \\\\\n",
    "0, & \\text{else}\n",
    "\\end{cases}.\n",
    "$$\n",
    "This is called $q$-learning. This approach aims to obtain a policy indirectly through the action-value function.\n",
    "Yet, in most cases we don't actually care about knowing the value of particular states,\n",
    "since all we need is a good policy for our agent. \n",
    "\n",
    "Here we'll take a different approach and learn a policy distribution $\\pi(a|s)$ directly - by using **policy gradients**."
   ]
  },
  {
   "cell_type": "markdown",
   "metadata": {},
   "source": [
    "### Formalism"
   ]
  },
  {
   "cell_type": "markdown",
   "metadata": {},
   "source": [
    "We define a parametric policy, $\\pi_\\vec{\\theta}(a|s)$, and maximize total discounted reward (or minimize the negative reward):\n",
    "$$\n",
    "\\mathcal{L}(\\vec{\\theta})=\\E[\\tau]{-g(\\tau)|\\pi_\\vec{\\theta}} = -\\int g(\\tau)p(\\tau|\\vec{\\theta})d\\tau,\n",
    "$$\n",
    "where $p(\\tau|\\vec{\\theta})$ is the probability of a specific trajectory $\\tau$ under the policy defined by $\\vec{\\theta}$.\n"
   ]
  },
  {
   "cell_type": "markdown",
   "metadata": {},
   "source": [
    "Since we want to find the parameters $\\vec{\\theta}$ which minimize $\\mathcal{L}(\\vec{\\theta})$, we'll compute the gradient w.r.t. $\\vec{\\theta}$:\n",
    "$$\n",
    "\\grad\\mathcal{L}(\\vec{\\theta}) = -\\int g(\\tau)\\grad p(\\tau|\\vec{\\theta})d\\tau.\n",
    "$$\n",
    "\n",
    "Unfortunately, if we try to write $p(\\tau|\\vec{\\theta})$ explicitly,\n",
    "we find that computing it's gradient with respect to $\\vec{\\theta}$ is\n",
    "quite intractable due to a huge product of terms depending on $\\vec{\\theta}$:\n",
    "$$\n",
    "p(\\tau|\\vec{\\theta})=p\\left(\\left\\{ (s_t,a_t,r_{t+1},s_{t+1})\\right\\}_{t\\geq0}\\given\\vec{\\theta}\\right)\n",
    "=p(s_0)\\prod_{t\\geq0} \\pi_{\\vec{\\theta}}(a_t|s_t)p(s_{t+1}|s_t,a_t).\n",
    "$$"
   ]
  },
  {
   "cell_type": "markdown",
   "metadata": {},
   "source": [
    "However, by using the fact that $\\grad_{x}\\log(f(x))=\\frac{\\grad_{x}f(x)}{f(x)}$, we can convert the product into a sum:\n",
    "$$\n",
    "\\begin{align}\n",
    "\\grad\\mathcal{L}(\\vec{\\theta})\n",
    "&= -\\int g(\\tau)\\grad p(\\tau|\\vec{\\theta})d\\tau\n",
    "= -\\int g(\\tau)\\frac{\\grad p(\\tau|\\vec{\\theta})}{p(\\tau|\\vec{\\theta})}p(\\tau|\\vec{\\theta})d\\tau \\\\\n",
    "&= -\\int g(\\tau)\\grad\\log\\left(p(\\tau|\\vec{\\theta})\\right)p(\\tau|\\vec{\\theta})d\\tau \\\\\n",
    "&= -\\int g(\\tau)\\grad\\log\\left( p(s_0)\\prod_{t\\geq0} \\pi_{\\vec{\\theta}}(a_t|s_t)p(s_{t+1}|s_t,a_t) \\right)\n",
    "p(\\tau|\\vec{\\theta})d\\tau \\\\\n",
    "&= -\\int g(\\tau)\\grad\\left( \\log p(s_0) + \\sum_{t\\geq0} \\log \\pi_{\\vec{\\theta}}(a_t|s_t) + \n",
    "\\sum_{t\\geq0}\\log p(s_{t+1}|s_t,a_t) \\right) p(\\tau|\\vec{\\theta})d\\tau \\\\\n",
    "&= -\\int g(\\tau)\\sum_{t\\geq0} \\grad\\log \\pi_{\\vec{\\theta}}(a_t|s_t) p(\\tau|\\vec{\\theta})d\\tau \\\\\n",
    "&= \\E[\\tau]{-g(\\tau)\\sum_{t\\geq0} \\grad\\log \\pi_{\\vec{\\theta}}(a_t|s_t)}.\n",
    "\\end{align}\n",
    "$$"
   ]
  },
  {
   "cell_type": "markdown",
   "metadata": {},
   "source": [
    "This is the \"vanilla\" version of the policy gradient. We can interpret is as a weighted log-likelihood function.\n",
    "The log-policy is the log-likelihood term we wish to maximize and the total discounted reward acts as a weight: high-return positive\n",
    "trajectories will cause the probability of actions taken during them to increase, and negative-return trajectories will cause the\n",
    "probabilities of actions taken to decrease.\n",
    "\n",
    "In the following figures we see three trajectories: high-return positive-reward (green), low-return positive-reward (yellow) and negative-return (red) and the action probabilities along the trajectories after the update. Credit: Sergey Levine.\n",
    "\n",
    "|<strong></strong>||\n",
    "|-----| ----|\n",
    "|<img src=\"imgs/pg1.png\" height=\"200\">|<img src=\"imgs/pg2.png\" height=\"200\">|\n"
   ]
  },
  {
   "cell_type": "markdown",
   "metadata": {},
   "source": [
    "The major drawback of the policy-gradient is it's high variance, which causes erratic optimization behavior and therefore slow convergence.\n",
    "One reason for this is that the log-policy weight term, $g(\\tau)$ can vary wildly between different trajectories, even if they're similar in\n",
    "actions. Later on we'll implement the loss and explore some methods of variance reduction."
   ]
  },
  {
   "cell_type": "markdown",
   "metadata": {},
   "source": [
    "### Landing on the moon with policy gradients"
   ]
  },
  {
   "cell_type": "markdown",
   "metadata": {},
   "source": [
    "In the spirit of the recent achievements of the Israeli space industry,\n",
    "we'll apply our reinforcement learning skills to solve a simple game called **LunarLander**.\n",
    "\n",
    "This game is available as an `environment` in OpenAI `gym`.\n",
    "\n",
    "<video loop autoplay src=\"http://gym.openai.com/videos/2019-04-06--My9IiAbqha/LunarLander-v2/original.mp4\" />"
   ]
  },
  {
   "cell_type": "markdown",
   "metadata": {},
   "source": [
    "In this environment, you need to control the lander and get it to land safely on the moon.\n",
    "To do so, you must apply bottom, right or left thrusters (each are either fully on or fully off)\n",
    "and get it to land within the designated zone as quickly as possible and with minimal wasted fuel."
   ]
  },
  {
   "cell_type": "code",
   "execution_count": 3,
   "metadata": {},
   "outputs": [],
   "source": [
    "import gym\n",
    "\n",
    "# Just for fun :) ... but also to re-define the default max number of steps\n",
    "ENV_NAME = 'Beresheet-v2'\n",
    "MAX_EPISODE_STEPS = 300\n",
    "if ENV_NAME not in gym.envs.registry.env_specs:\n",
    "    gym.register(\n",
    "        id=ENV_NAME,\n",
    "        entry_point='gym.envs.box2d:LunarLander',\n",
    "        max_episode_steps=MAX_EPISODE_STEPS,\n",
    "        reward_threshold=200,\n",
    "    )"
   ]
  },
  {
   "cell_type": "code",
   "execution_count": 4,
   "metadata": {},
   "outputs": [
    {
     "name": "stdout",
     "output_type": "stream",
     "text": [
      "<TimeLimit<LunarLander<Beresheet-v2>>>\n",
      "observations space: Box(-inf, inf, (8,), float32)\n",
      "action space: Discrete(4)\n"
     ]
    }
   ],
   "source": [
    "import gym\n",
    "\n",
    "env = gym.make(ENV_NAME)\n",
    "\n",
    "print(env)\n",
    "print(f'observations space: {env.observation_space}')\n",
    "print(f'action space: {env.action_space}')\n",
    "\n",
    "ENV_N_ACTIONS = env.action_space.n\n",
    "ENV_N_OBSERVATIONS = env.observation_space.shape[0]"
   ]
  },
  {
   "cell_type": "markdown",
   "metadata": {},
   "source": [
    "The observations at each step is the Lander's position, velocity, angle, angular velocity and ground contact state.\n",
    "The actions are no-op, fire left truster, bottom thruster and right thruster.\n",
    "\n",
    "You are **highly encouraged** to read the [documentation](https://github.com/openai/gym/blob/master/gym/envs/box2d/lunar_lander.py) in the source code of the `LunarLander` environment to understand the reward system,\n",
    "and see how the actions and observations are created."
   ]
  },
  {
   "cell_type": "markdown",
   "metadata": {},
   "source": [
    "### Policy network and Agent"
   ]
  },
  {
   "cell_type": "markdown",
   "metadata": {},
   "source": [
    "Let's start with our policy-model. This will be a simple neural net, which should take an observation and return a score for each possible action."
   ]
  },
  {
   "cell_type": "markdown",
   "metadata": {},
   "source": [
    "**TODO**:\n",
    "1. Implement all methods in the `PolicyNet` class in the `hw4/rl_pg.py` module.\n",
    "   Start small. A simple MLP with a few hidden layers is a good starting point. You can come back and change it later based on the the experiments.  \n",
    "   Notice that we'll use the `build_for_env` method to instantiate a `PolicyNet` based on the configuration of a given environment.\n",
    "2. If you need hyperparameters to configure your model (e.g. number of hidden layers, sizes, etc.), add them in `part1_pg_hyperparams()` in `hw4/answers.py`."
   ]
  },
  {
   "cell_type": "code",
   "execution_count": 5,
   "metadata": {},
   "outputs": [
    {
     "data": {
      "text/plain": [
       "PolicyNet(\n",
       "  (layers): Sequential(\n",
       "    (0): Linear(in_features=8, out_features=32, bias=True)\n",
       "    (1): ReLU()\n",
       "    (2): Linear(in_features=32, out_features=16, bias=True)\n",
       "    (3): ReLU()\n",
       "    (4): Linear(in_features=16, out_features=4, bias=True)\n",
       "  )\n",
       ")"
      ]
     },
     "execution_count": 5,
     "metadata": {},
     "output_type": "execute_result"
    }
   ],
   "source": [
    "import hw4.rl_pg as hw4pg\n",
    "import hw4.answers\n",
    "\n",
    "hp = hw4.answers.part1_pg_hyperparams()\n",
    "\n",
    "# You can add keyword-args to this function which will be populated from the\n",
    "# hyperparameters dict.\n",
    "p_net = hw4pg.PolicyNet.build_for_env(env, device, **hp)\n",
    "p_net"
   ]
  },
  {
   "cell_type": "markdown",
   "metadata": {},
   "source": [
    "Now we need an **agent**. The purpose of our agent will be to act according to the current policy and generate experiences.\n",
    "Our `PolicyAgent` will use a `PolicyNet` as the current policy function.\n",
    "\n",
    "\n",
    "We'll also define some extra datatypes to help us represent the data generated by our agent.\n",
    "You can find the `Experience`, `Episode` and `TrainBatch` datatypes in the `hw4/rl_data.py` module."
   ]
  },
  {
   "cell_type": "markdown",
   "metadata": {},
   "source": [
    "**TODO**: Implement the `current_action_distribution()` method of the `PolicyAgent` class in the `hw4/rl_pg.py` module."
   ]
  },
  {
   "cell_type": "code",
   "execution_count": 6,
   "metadata": {},
   "outputs": [
    {
     "name": "stdout",
     "output_type": "stream",
     "text": [
      "tensor([0.2151, 0.1764, 0.2806, 0.3279])\n"
     ]
    }
   ],
   "source": [
    "for i in range (10):\n",
    "    agent = hw4pg.PolicyAgent(env, p_net, device)\n",
    "    d = agent.current_action_distribution()\n",
    "    \n",
    "    test.assertSequenceEqual(d.shape, (env.action_space.n,))\n",
    "    test.assertAlmostEqual(d.sum(), 1.0, delta=1e-5)\n",
    "    \n",
    "print(d)"
   ]
  },
  {
   "cell_type": "markdown",
   "metadata": {},
   "source": [
    "**TODO**: Implement the `step()` method of the `PolicyAgent`."
   ]
  },
  {
   "cell_type": "code",
   "execution_count": 7,
   "metadata": {},
   "outputs": [
    {
     "name": "stdout",
     "output_type": "stream",
     "text": [
      "Experience(state=tensor([ 0.0061,  1.4102,  0.6158, -0.0305, -0.0070, -0.1395,  0.0000,  0.0000],\n",
      "       dtype=torch.float64), action=3, reward=-1.8772736705551256, is_done=False)\n"
     ]
    }
   ],
   "source": [
    "agent = hw4pg.PolicyAgent(env, p_net, device)\n",
    "exp = agent.step()\n",
    "\n",
    "test.assertIsInstance(exp, hw4pg.Experience)\n",
    "print(exp)"
   ]
  },
  {
   "cell_type": "markdown",
   "metadata": {},
   "source": [
    "To test our agent, we'll write some code that allows it to play an environment. We'll use the `Monitor`\n",
    "wrapper in `gym` to generate a video of the episode for visual debugging."
   ]
  },
  {
   "cell_type": "markdown",
   "metadata": {},
   "source": [
    "**TODO**: Complete the implementation of the `monitor_episode()` method of the `PolicyAgent`."
   ]
  },
  {
   "cell_type": "code",
   "execution_count": 8,
   "metadata": {},
   "outputs": [],
   "source": [
    "env, n_steps, reward = agent.monitor_episode(ENV_NAME, p_net, device=device)"
   ]
  },
  {
   "cell_type": "markdown",
   "metadata": {},
   "source": [
    "To display the Monitor video in this notebook, we'll use a helper function from our `jupyter_utils` and a small wrapper that extracts the path of the last video file. "
   ]
  },
  {
   "cell_type": "code",
   "execution_count": 9,
   "metadata": {},
   "outputs": [],
   "source": [
    "import cs236781.jupyter_utils as jupyter_utils\n",
    "\n",
    "def show_monitor_video(monitor_env, idx=0, **kw):\n",
    "    # Extract video path\n",
    "    video_path = monitor_env.videos[idx][0]\n",
    "    video_path = os.path.relpath(video_path, start=os.path.curdir)\n",
    "    print(video_path)\n",
    "    # Use helper function to embed the video\n",
    "    return jupyter_utils.show_video_in_notebook(video_path, **kw)"
   ]
  },
  {
   "cell_type": "code",
   "execution_count": 10,
   "metadata": {},
   "outputs": [
    {
     "name": "stdout",
     "output_type": "stream",
     "text": [
      "Episode ran for 120 steps. Total reward: -648.20\n",
      "checkpoints/monitor/openaigym.video.0.3975.video000000.mp4\n"
     ]
    },
    {
     "data": {
      "text/html": [
       "<video src=\"data:video/mp4;base64,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\" controls autoplay width=\"500\" height=\"auto\" />"
      ],
      "text/plain": [
       "<IPython.core.display.HTML object>"
      ]
     },
     "execution_count": 10,
     "metadata": {},
     "output_type": "execute_result"
    }
   ],
   "source": [
    "print(f'Episode ran for {n_steps} steps. Total reward: {reward:.2f}')\n",
    "\n",
    "show_monitor_video(env)"
   ]
  },
  {
   "cell_type": "markdown",
   "metadata": {},
   "source": [
    "### Training data"
   ]
  },
  {
   "cell_type": "markdown",
   "metadata": {},
   "source": [
    "The next step is to create data to train on.\n",
    "We need to train on batches of state-action pairs, so that our network can learn to predict the actions.\n",
    "\n",
    "We'll split this task into three parts:\n",
    "1. Generate a batch of `Episode`s, by using an `Agent` that's playing according to our current policy network.\n",
    "   Each `Episode` object contains the `Experience` objects created by the agent.\n",
    "2. Calculate the total discounted reward for each state we encountered and action we took. This is our action-value estimate.\n",
    "3. Convert the `Episode`s into a batch of tensors to train on.\n",
    "   Each batch will contain states, action taken per state, reward accrued, and the calculated estimated state-values.\n",
    "   These will be stored in a `TrainBatch` object.\n"
   ]
  },
  {
   "cell_type": "markdown",
   "metadata": {},
   "source": [
    "**TODO**: Complete the implementation of the `episode_batch_generator()` method in the `TrainBatchDataset` class within the `hw4.rl_data` module. This will address part 1 in the list above."
   ]
  },
  {
   "cell_type": "code",
   "execution_count": 78,
   "metadata": {},
   "outputs": [
    {
     "name": "stdout",
     "output_type": "stream",
     "text": [
      "First episode: Episode(total_reward=-430.09, #experences=70)\n"
     ]
    }
   ],
   "source": [
    "import hw4.rl_data as hw4data\n",
    "\n",
    "def agent_fn():\n",
    "    env = gym.make(ENV_NAME)\n",
    "    hp = hw4.answers.part1_pg_hyperparams()\n",
    "    p_net = hw4pg.PolicyNet.build_for_env(env, device, **hp)\n",
    "    return hw4pg.PolicyAgent(env, p_net, device)\n",
    "    \n",
    "ds = hw4data.TrainBatchDataset(agent_fn, episode_batch_size=8, gamma=0.9)\n",
    "batch_gen = ds.episode_batch_generator()\n",
    "b = next(batch_gen)\n",
    "print('First episode:', b[0])\n",
    "\n",
    "test.assertEqual(len(b), 8)\n",
    "for ep in b:\n",
    "    test.assertIsInstance(ep, hw4data.Episode)\n",
    "    \n",
    "    # Check that it's a full episode\n",
    "    is_done = [exp.is_done for exp in ep.experiences]\n",
    "    test.assertFalse(any(is_done[0:-1]))\n",
    "    test.assertTrue(is_done[-1])"
   ]
  },
  {
   "cell_type": "markdown",
   "metadata": {},
   "source": [
    "**TODO**: Complete the implementation of the `calc_qvals()` method in the `Episode` class.\n",
    "This will address part 2.\n",
    "These q-values are an estimate of the actual action value function: $$\\hat{q}_{t} = \\sum_{t'\\geq t} \\gamma^{t'-t}r_{t'+1}.$$"
   ]
  },
  {
   "cell_type": "code",
   "execution_count": 79,
   "metadata": {},
   "outputs": [],
   "source": [
    "np.random.seed(SEED)\n",
    "test_rewards = np.random.randint(-10, 10, 100)\n",
    "test_experiences = [hw4pg.Experience(None,None,r,False) for r in test_rewards] \n",
    "test_episode = hw4data.Episode(np.sum(test_rewards), test_experiences)\n",
    "\n",
    "qvals = test_episode.calc_qvals(0.9)\n",
    "qvals = list(qvals)\n",
    "expected_qvals = np.load(os.path.join('tests', 'assets', 'part1_expected_qvals.npy'))\n",
    "# print(f\"actual qvals is {qvals}, expected qvals is {expected_qvals}\")\n",
    "for i in range(len(test_rewards)):\n",
    "    test.assertAlmostEqual(expected_qvals[i], qvals[i], delta=1e-3)\n",
    "#     test.assertEqual(expected_qvals[i],qvals[i])"
   ]
  },
  {
   "cell_type": "markdown",
   "metadata": {},
   "source": [
    "**TODO**: Complete the implementation of the `from_episodes()` method in the `TrainBatch` class.\n",
    "This will address part 3.\n",
    "\n",
    "Notes:\n",
    "- The `TrainBatchDataset` class provides a generator function that will use the above function to lazily generate batches of training samples and labels on demand.\n",
    "- This allows us to use a standard `PyTorch` dataloader to wrap our Dataset and provide us with parallel data loading for free!\n",
    "  This means we can run multiple environments with multiple agents in separate background processes to generate data for training and thus prevent the data loading bottleneck which is caused by the fact that we must generate full Episodes to train on in order to calculate the q-values.\n",
    "- We'll set the `DataLoader`'s `batch_size` to `None` because we have already implemented custom batching in our dataset.\n",
    "- You can choose the number of worker processes generating data using the `num_workers` parameter in the hyperparams dict. Set `num_workers=0` to disable parallelization."
   ]
  },
  {
   "cell_type": "code",
   "execution_count": 80,
   "metadata": {},
   "outputs": [
    {
     "name": "stdout",
     "output_type": "stream",
     "text": [
      "#0: TrainBatch(states: torch.Size([609, 8]), actions: torch.Size([609]), q_vals: torch.Size([609])), num_episodes: 8)\n",
      "#1: TrainBatch(states: torch.Size([603, 8]), actions: torch.Size([603]), q_vals: torch.Size([603])), num_episodes: 8)\n",
      "#2: TrainBatch(states: torch.Size([656, 8]), actions: torch.Size([656]), q_vals: torch.Size([656])), num_episodes: 8)\n",
      "#3: TrainBatch(states: torch.Size([694, 8]), actions: torch.Size([694]), q_vals: torch.Size([694])), num_episodes: 8)\n",
      "#4: TrainBatch(states: torch.Size([668, 8]), actions: torch.Size([668]), q_vals: torch.Size([668])), num_episodes: 8)\n",
      "#5: TrainBatch(states: torch.Size([640, 8]), actions: torch.Size([640]), q_vals: torch.Size([640])), num_episodes: 8)\n",
      "#6: TrainBatch(states: torch.Size([645, 8]), actions: torch.Size([645]), q_vals: torch.Size([645])), num_episodes: 8)\n"
     ]
    }
   ],
   "source": [
    "from torch.utils.data import DataLoader\n",
    "\n",
    "hp = hw4.answers.part1_pg_hyperparams()\n",
    "ds = hw4data.TrainBatchDataset(agent_fn, episode_batch_size=8, gamma=0.9)\n",
    "dl = DataLoader(\n",
    "    ds,\n",
    "    batch_size=None,\n",
    "    num_workers=hp['num_workers'],\n",
    "    multiprocessing_context='fork' if hp['num_workers'] > 0 else None\n",
    ")\n",
    "\n",
    "\n",
    "for i, train_batch in enumerate(dl):\n",
    "    states, actions, qvals, reward_mean = train_batch\n",
    "    print(f'#{i}: {train_batch}')\n",
    "    test.assertEqual(states.shape[0], actions.shape[0])\n",
    "    test.assertEqual(qvals.shape[0], actions.shape[0])\n",
    "    test.assertEqual(states.shape[1], env.observation_space.shape[0])\n",
    "    if i > 5:\n",
    "        break"
   ]
  },
  {
   "cell_type": "markdown",
   "metadata": {},
   "source": [
    "### Loss functions"
   ]
  },
  {
   "cell_type": "markdown",
   "metadata": {},
   "source": [
    "As usual, we need a loss function to optimize over.\n",
    "We'll calculate three types of losses:\n",
    "1. The causal vanilla policy gradient loss.\n",
    "1. The policy gradient loss, with a baseline to reduce variance.\n",
    "2. An entropy-based loss whos purpose is to diversify the agent's action selection,\n",
    "   and prevent it from being \"too sure\" about its actions.\n",
    "   This loss will be used together with one of the above losses."
   ]
  },
  {
   "cell_type": "markdown",
   "metadata": {},
   "source": [
    "#### Causal vanilla policy-gradient"
   ]
  },
  {
   "cell_type": "markdown",
   "metadata": {},
   "source": [
    "We have derived the policy-gradient as\n",
    "$$\n",
    "\\grad\\mathcal{L}(\\vec{\\theta}) = \\E[\\tau]{-g(\\tau)\\sum_{t\\geq0} \\grad\\log \\pi_{\\vec{\\theta}}(a_t|s_t)}.\n",
    "$$\n",
    "\n",
    "By writing the discounted reward explicitly and enforcing causality, i.e. the action taken at time $t$ can't affect\n",
    "the reward at time $t'<t$, we can get a slightly lower-variance version of the policy gradient:\n",
    "\n",
    "$$\n",
    "\\grad\\mathcal{L}_{\\text{PG}}(\\vec{\\theta}) = \n",
    "\\E[\\tau]{-\\sum_{t\\geq0} \\left(\\sum_{t'\\geq t} \\gamma^{t'-t}r_{t'+1} \\right)\\grad\\log \\pi_{\\vec{\\theta}}(a_t|s_t)}.\n",
    "$$"
   ]
  },
  {
   "cell_type": "markdown",
   "metadata": {},
   "source": [
    "In practice, the expectation over trajectories is calculated using a Monte-Carlo approach, i.e. simply sampling $N$\n",
    "trajectories and average the term inside the expectation. Therefore, we will use the following estimated version of the policy gradient:\n",
    "\n",
    "$$\n",
    "\\begin{align}\n",
    "\\hat\\grad\\mathcal{L}_{\\text{PG}}(\\vec{\\theta})\n",
    "&=-\\frac{1}{N}\\sum_{i=1}^{N}\\sum_{t\\geq0} \\left(\\sum_{t'\\geq t} \\gamma^{t'-t}r_{i,t'+1} \\right)\\grad\\log \\pi_{\\vec{\\theta}}(a_{i,t}|s_{i,t}) \\\\\n",
    "&=-\\frac{1}{N}\\sum_{i=1}^{N}\\sum_{t\\geq0} \\hat{q}_{i,t} \\grad\\log \\pi_{\\vec{\\theta}}(a_{i,t}|s_{i,t}).\n",
    "\\end{align}\n",
    "$$\n",
    "\n",
    "Note the use of the notation $\\hat{q}_{i,t}$ to represent the estimated action-value at time $t$ in the sampled trajectory $i$.\n",
    "Here $\\hat{q}_{i,t}$ is acting as the weight-term for the policy gradient."
   ]
  },
  {
   "cell_type": "markdown",
   "metadata": {},
   "source": [
    "**TODO**: Complete the implementation of the `VanillaPolicyGradientLoss` class in the `hw4/rl_pg.py` module."
   ]
  },
  {
   "cell_type": "code",
   "execution_count": 122,
   "metadata": {},
   "outputs": [
    {
     "name": "stdout",
     "output_type": "stream",
     "text": [
      "test_batch=TrainBatch(states: torch.Size([388, 8]), actions: torch.Size([388]), q_vals: torch.Size([388])), num_episodes: 4)\n",
      "\n",
      "test_action_scores=\n",
      "tensor([[-7.8158e-01, -1.5094e-01,  4.1993e-01,  1.4059e+00],\n",
      "        [ 1.3185e+00,  2.8492e-05,  1.4242e+00, -6.2004e-01],\n",
      "        [ 1.1881e+00,  2.0556e+00,  6.6027e-01, -1.1078e+00],\n",
      "        ...,\n",
      "        [-3.4807e-01, -9.6609e-01, -6.5453e-01, -2.0421e+00],\n",
      "        [-1.1453e+00,  8.8890e-01,  2.4767e-01,  9.7610e-01],\n",
      "        [-1.2878e+00,  1.9194e+00, -9.3162e-01, -3.8786e-01]])\n",
      "shape=torch.Size([388, 4])\n",
      "\n",
      "loss_p=tensor(-36.6423)\n"
     ]
    }
   ],
   "source": [
    "# Ensure deterministic run\n",
    "env = gym.make(ENV_NAME)\n",
    "env.seed(SEED)\n",
    "torch.manual_seed(SEED)\n",
    "\n",
    "def agent_fn():\n",
    "    # Use a simple \"network\" here, so that this test doesn't depend on\n",
    "    # your specific PolicyNet implementation\n",
    "    p_net_test = nn.Linear(ENV_N_OBSERVATIONS, ENV_N_ACTIONS, bias=True)\n",
    "    agent = hw4pg.PolicyAgent(env, p_net_test)\n",
    "    return agent\n",
    "\n",
    "dataloader = hw4data.TrainBatchDataset(agent_fn, gamma=0.9, episode_batch_size=4)\n",
    "\n",
    "test_batch = next(iter(dataloader))\n",
    "test_action_scores = torch.randn(len(test_batch), env.action_space.n)\n",
    "print(f\"{test_batch=}\", end='\\n\\n')\n",
    "print(f\"test_action_scores=\\n{test_action_scores}\\nshape={test_action_scores.shape}\", end='\\n\\n')\n",
    "\n",
    "loss_fn_p = hw4pg.VanillaPolicyGradientLoss()\n",
    "loss_p, _ = loss_fn_p(test_batch, test_action_scores)\n",
    "\n",
    "print(f'{loss_p=}')\n",
    "test.assertAlmostEqual(loss_p.item(), -36.642, delta=1e-2)"
   ]
  },
  {
   "cell_type": "markdown",
   "metadata": {},
   "source": [
    "#### Policy-gradient with baseline"
   ]
  },
  {
   "cell_type": "markdown",
   "metadata": {},
   "source": [
    "Another way to reduce the variance of our gradient is to use relative weighting of the log-policy instead of absolute reward values.\n",
    "$$\n",
    "\\hat\\grad\\mathcal{L}_{\\text{BPG}}(\\vec{\\theta})\n",
    "=-\\frac{1}{N}\\sum_{i=1}^{N}\\sum_{t\\geq0} \\left(\\hat{q}_{i,t}-b\\right) \\grad\\log \\pi_{\\vec{\\theta}}(a_{i,t}|s_{i,t}).\n",
    "$$\n",
    "In other words, we don't measure a trajectory's worth by it's total reward, but by how much better that total reward is relative to some\n",
    "expected (\"baseline\") reward value, denoted above by $b$.\n",
    "Note that subtracting a baseline has no effect on the expected value of the policy gradient. It's easy to prove this directly by definition.\n",
    "\n",
    "Here we'll implement a very simple baseline (not optimal in terms of variance reduction): the average of the estimated state-values $\\hat{q}_{i,t}$."
   ]
  },
  {
   "cell_type": "markdown",
   "metadata": {},
   "source": [
    "**TODO**: Complete the implementation of the `BaselinePolicyGradientLoss` class in the `hw4/rl_pg.py` module."
   ]
  },
  {
   "cell_type": "code",
   "execution_count": 124,
   "metadata": {},
   "outputs": [
    {
     "name": "stdout",
     "output_type": "stream",
     "text": [
      "loss_dict={'loss_p': -0.27867695689201355, 'baseline': -22.191162109375}\n"
     ]
    }
   ],
   "source": [
    "# Using the same batch and action_scores from above cell\n",
    "loss_fn_p = hw4pg.BaselinePolicyGradientLoss()\n",
    "loss_p, loss_dict = loss_fn_p(test_batch, test_action_scores)\n",
    "\n",
    "print(f'{loss_dict=}')\n",
    "test.assertAlmostEqual(loss_dict['baseline'], -22.191, delta=1e-2)\n",
    "test.assertAlmostEqual(loss_p.item(), -0.278, delta=1e-2)"
   ]
  },
  {
   "cell_type": "markdown",
   "metadata": {},
   "source": [
    "#### Entropy loss"
   ]
  },
  {
   "cell_type": "markdown",
   "metadata": {},
   "source": [
    "The entropy of a probability distribution (in our case the policy), is\n",
    "$$\n",
    "H(\\pi) = -\\sum_{a} \\pi(a|s)\\log\\pi(a|s).\n",
    "$$\n",
    "The entropy is always positive and obtains it's maximum for a uniform distribution.\n",
    "We'll use the entropy of the policy as a bonus, i.e. we'll try to maximize it.\n",
    "The idea is the prevent the policy distribution from becoming too narrow and thus promote the agent's exploration."
   ]
  },
  {
   "cell_type": "markdown",
   "metadata": {},
   "source": [
    "First, we'll calculate the maximal possible entropy value of the action distribution for a set number of possible actions.\n",
    "This will be used as a normalization term.\n",
    "\n",
    "**TODO**: Complete the implementation of the `calc_max_entropy()` method in the `ActionEntropyLoss` class."
   ]
  },
  {
   "cell_type": "code",
   "execution_count": null,
   "metadata": {},
   "outputs": [],
   "source": [
    "loss_fn_e = hw4pg.ActionEntropyLoss(env.action_space.n)\n",
    "print('max_entropy = ', loss_fn_e.max_entropy)\n",
    "\n",
    "test.assertAlmostEqual(loss_fn_e.max_entropy, 1.38629436, delta=1e-3)"
   ]
  },
  {
   "cell_type": "markdown",
   "metadata": {},
   "source": [
    "**TODO**: Complete the implementation of the `forward()` method in the `ActionEntropyLoss` class."
   ]
  },
  {
   "cell_type": "code",
   "execution_count": null,
   "metadata": {},
   "outputs": [],
   "source": [
    "loss_e, _ = loss_fn_e(test_batch, test_action_scores)\n",
    "print('loss = ', loss_e)\n",
    "\n",
    "test.assertAlmostEqual(loss_e.item(), -0.8103, delta=1e-2)"
   ]
  },
  {
   "cell_type": "markdown",
   "metadata": {},
   "source": [
    "### Training"
   ]
  },
  {
   "cell_type": "markdown",
   "metadata": {},
   "source": [
    "We'll implement our training procedure as follows:\n",
    "\n",
    "1. Initialize the current policy to be a random policy.\n",
    "1. Sample $N$ trajectories from the environment using the current policy.\n",
    "2. Calculate the estimated $q$-values, $\\hat{q}_{i,t} = \\sum_{t'\\geq t} \\gamma^{t'}r_{i,t'+1}$ for each trajectory $i$.\n",
    "3. Calculate policy gradient estimate $\\hat\\grad\\mathcal{L}(\\vec{\\theta})$ as defined above.\n",
    "4. Perform SGD update $\\vec{\\theta}\\leftarrow\\vec{\\theta}-\\eta\\hat\\grad\\mathcal{L}(\\vec{\\theta})$.\n",
    "5. Repeat from step 2.\n",
    "\n",
    "This is known as the **REINFORCE** algorithm."
   ]
  },
  {
   "cell_type": "markdown",
   "metadata": {},
   "source": [
    "Fortunately, we've already implemented everything we need for steps 1-4 so we need only a bit more code to put it all together.\n",
    "\n",
    "The following block implements a wrapper, `train_pg` to create all the objects we need in order to train our policy gradient model.\n"
   ]
  },
  {
   "cell_type": "code",
   "execution_count": null,
   "metadata": {},
   "outputs": [],
   "source": [
    "import hw4.answers\n",
    "from functools import partial\n",
    "\n",
    "ENV_NAME = \"Beresheet-v2\"\n",
    "\n",
    "def agent_fn_train(agent_type, p_net, seed, envs_dict):\n",
    "    winfo = torch.utils.data.get_worker_info()\n",
    "    wid = winfo.id if winfo else 0\n",
    "    seed = seed + wid if seed else wid\n",
    "\n",
    "    env = gym.make(ENV_NAME)\n",
    "    envs_dict[wid] = env\n",
    "    env.seed(seed)\n",
    "    np.random.seed(seed)\n",
    "    torch.manual_seed(seed)\n",
    "\n",
    "    return agent_type(env, p_net)\n",
    "\n",
    "def train_rl(agent_type, net_type, loss_fns, hp, seed=None, checkpoints_file=None, **train_kw):\n",
    "    print(f'hyperparams: {hp}')\n",
    "    \n",
    "    envs = {}\n",
    "    p_net = net_type(ENV_N_OBSERVATIONS, ENV_N_ACTIONS, **hp)\n",
    "    p_net.share_memory()\n",
    "    agent_fn = partial(agent_fn_train, agent_type, p_net, seed, envs)\n",
    "    \n",
    "    dataset = hw4data.TrainBatchDataset(agent_fn, hp['batch_size'], hp['gamma'])\n",
    "    dataloader = DataLoader(\n",
    "        dataset, batch_size=None, num_workers=hp['num_workers'],\n",
    "        multiprocessing_context='fork' if hp['num_workers'] > 0 else None\n",
    "    )\n",
    "    optimizer = optim.Adam(p_net.parameters(), lr=hp['learn_rate'], eps=hp['eps'])\n",
    "    \n",
    "    trainer = hw4pg.PolicyTrainer(p_net, optimizer, loss_fns, dataloader, checkpoints_file)\n",
    "    try:\n",
    "        trainer.train(**train_kw)\n",
    "    except KeyboardInterrupt as e:\n",
    "        print('Training interrupted by user.')\n",
    "    finally:\n",
    "        for env in envs.values():\n",
    "            env.close()\n",
    "\n",
    "    # Include final model state\n",
    "    training_data = trainer.training_data\n",
    "    training_data['model_state'] = p_net.state_dict()\n",
    "    return training_data\n",
    "    \n",
    "def train_pg(baseline=False, entropy=False, **train_kwargs):\n",
    "    hp = hw4.answers.part1_pg_hyperparams()\n",
    "    \n",
    "    loss_fns = []\n",
    "    if baseline:\n",
    "        loss_fns.append(hw4pg.BaselinePolicyGradientLoss())\n",
    "    else:\n",
    "        loss_fns.append(hw4pg.VanillaPolicyGradientLoss())\n",
    "    if entropy:\n",
    "        loss_fns.append(hw4pg.ActionEntropyLoss(ENV_N_ACTIONS, hp['beta']))\n",
    "\n",
    "    return train_rl(hw4pg.PolicyAgent, hw4pg.PolicyNet, loss_fns, hp, **train_kwargs)"
   ]
  },
  {
   "cell_type": "markdown",
   "metadata": {},
   "source": [
    "The `PolicyTrainer` class implements the training loop, collects the losses and rewards and provides some useful checkpointing functionality.\n",
    "The training loop will generate batches of episodes and train on them until either:\n",
    "- The average total reward from the last `running_mean_len` episodes is greater than the `target_reward`, OR\n",
    "- The number of generated episodes reached `max_episodes`.\n",
    "\n",
    "Most of this class is already implemented for you. "
   ]
  },
  {
   "cell_type": "markdown",
   "metadata": {},
   "source": [
    "**TODO**:\n",
    "1. Complete the training loop by implementing the `train_batch()` method of the `PolicyTrainer`.\n",
    "2. Tweak the hyperparameters in the `part1_pg_hyperparams()` function within the `hw4/answers.py` module as needed. You get some sane defaults."
   ]
  },
  {
   "cell_type": "markdown",
   "metadata": {},
   "source": [
    "Let's check whether our model is actually training.\n",
    "We'll try to reach a very low (bad) target reward, just as a sanity check to see that training works.\n",
    "Your model should be able to reach this target reward within a few batches.\n",
    "\n",
    "You can increase the target reward and use this block to manually tweak your model and hyperparameters a few times."
   ]
  },
  {
   "cell_type": "code",
   "execution_count": null,
   "metadata": {},
   "outputs": [],
   "source": [
    "target_reward = -140 # VERY LOW target\n",
    "train_data = train_pg(target_reward=target_reward, seed=SEED, max_episodes=2000, running_mean_len=10)\n",
    "\n",
    "test.assertGreater(train_data['mean_reward'][-1], target_reward)"
   ]
  },
  {
   "cell_type": "markdown",
   "metadata": {},
   "source": [
    "### Experimenting with different losses"
   ]
  },
  {
   "cell_type": "markdown",
   "metadata": {},
   "source": [
    "We'll now run a few experiments to see the effect of diferent loss functions on the training dynamics. Namely, we'll try:\n",
    "1. Vanilla PG (`vpg`): No baseline, no entropy\n",
    "2. Baseline PG (`bpg`): Baseline, no entropy loss\n",
    "3. Entropy PG (`epg`): No baseline, with entropy loss\n",
    "3. Combined PG (`cpg`): Baseline, with entropy loss"
   ]
  },
  {
   "cell_type": "code",
   "execution_count": null,
   "metadata": {},
   "outputs": [],
   "source": [
    "from collections import namedtuple\n",
    "from pprint import pprint\n",
    "import itertools as it\n",
    "\n",
    "\n",
    "ExpConfig = namedtuple('ExpConfig', ('name','baseline','entropy'))\n",
    "\n",
    "def exp_configs():\n",
    "#     exp_names = ('vpg', 'epg', 'bpg', 'cpg')\n",
    "    exp_names = (['vpg'])\n",
    "    z = zip(exp_names, it.product((False, True), (False, True)))\n",
    "    return (ExpConfig(n, b, e) for (n, (b, e)) in z)\n",
    "\n",
    "pprint(list(exp_configs()))"
   ]
  },
  {
   "cell_type": "markdown",
   "metadata": {},
   "source": [
    "We'll save the training data from each experiment for plotting."
   ]
  },
  {
   "cell_type": "code",
   "execution_count": null,
   "metadata": {},
   "outputs": [],
   "source": [
    "import pickle\n",
    "\n",
    "def dump_training_data(data, filename):\n",
    "    os.makedirs(os.path.dirname(filename), exist_ok=True)\n",
    "    with open(filename, mode='wb') as file:\n",
    "        pickle.dump(data, file)\n",
    "        \n",
    "def load_training_data(filename):\n",
    "    with open(filename, mode='rb') as file:\n",
    "        return pickle.load(file)"
   ]
  },
  {
   "cell_type": "markdown",
   "metadata": {},
   "source": [
    "Let's run the experiments! We'll run each configuration for a fixed number of episodes so that we can compare them.\n",
    "\n",
    "Notes:\n",
    "1. Until your models start working, you can decrease the number of episodes for each experiment, or only run one experiment.\n",
    "2.  The results will be saved in a file. To re-run the experiments, you can set `force_run` to `True`."
   ]
  },
  {
   "cell_type": "code",
   "execution_count": null,
   "metadata": {},
   "outputs": [],
   "source": [
    "import math\n",
    "\n",
    "exp_max_episodes = 4000\n",
    "\n",
    "results = {}\n",
    "training_data_filename = os.path.join('results', f'part1_exp.dat')\n",
    "\n",
    "# Set to True to force re-run (careful! will delete old experiment results)\n",
    "force_run = False\n",
    "\n",
    "# Skip running if results file exists.\n",
    "if os.path.isfile(training_data_filename) and not force_run:\n",
    "    print(f'=== results file {training_data_filename} exists, skipping experiments.')\n",
    "    results = load_training_data(training_data_filename)\n",
    "    \n",
    "else:\n",
    "    for n, b, e in exp_configs():\n",
    "        print(f'=== Experiment {n}')\n",
    "        results[n] = train_pg(baseline=b, entropy=e, max_episodes=exp_max_episodes, post_batch_fn=None)\n",
    "        \n",
    "    dump_training_data(results, training_data_filename)"
   ]
  },
  {
   "cell_type": "code",
   "execution_count": null,
   "metadata": {},
   "outputs": [],
   "source": [
    "def plot_experiment_results(results, fig=None):\n",
    "    if fig is None:\n",
    "        fig, _ = plt.subplots(nrows=2, ncols=2, sharex=True, figsize=(18,12))\n",
    "    for i, plot_type in enumerate(('loss_p', 'baseline', 'loss_e', 'mean_reward')):\n",
    "        ax = fig.axes[i]\n",
    "        for exp_name, exp_res in results.items():\n",
    "            if plot_type not in exp_res:\n",
    "                continue\n",
    "            ax.plot(exp_res['episode_num'], exp_res[plot_type], label=exp_name)\n",
    "        ax.set_title(plot_type)\n",
    "        ax.set_xlabel('episode')\n",
    "        ax.legend()\n",
    "    return fig\n",
    "    \n",
    "experiments_results_fig = plot_experiment_results(results)"
   ]
  },
  {
   "cell_type": "markdown",
   "metadata": {},
   "source": [
    "You should see positive training dynamics in the graphs (reward going up).\n",
    "If you don't, use them to further update your model or hyperparams.\n",
    "\n",
    "To pass the test, you'll need to get a best total mean reward of at least 10 in the fixed number of epochs using the combined loss.\n",
    "It's possible to get much higher (over 100)."
   ]
  },
  {
   "cell_type": "code",
   "execution_count": null,
   "metadata": {},
   "outputs": [],
   "source": [
    "best_cpg_mean_reward = max(results['cpg']['mean_reward'])\n",
    "print(f'Best CPG mean reward: {best_cpg_mean_reward:.2f}')\n",
    "\n",
    "test.assertGreater(best_cpg_mean_reward, 10)"
   ]
  },
  {
   "cell_type": "markdown",
   "metadata": {},
   "source": [
    "Now let's take a look at a gameplay video of our `cpg` model after the short training!"
   ]
  },
  {
   "cell_type": "code",
   "execution_count": null,
   "metadata": {},
   "outputs": [],
   "source": [
    "hp = hw4.answers.part1_pg_hyperparams()\n",
    "p_net_cpg = hw4pg.PolicyNet.build_for_env(env, **hp)\n",
    "p_net_cpg.load_state_dict(results['cpg']['model_state'])\n",
    "\n",
    "env, n_steps, reward = hw4pg.PolicyAgent.monitor_episode(ENV_NAME, p_net_cpg)\n",
    "print(f'{n_steps} steps, total reward: {reward:.2f}')\n",
    "show_monitor_video(env)"
   ]
  },
  {
   "cell_type": "markdown",
   "metadata": {},
   "source": [
    "## Advantage Actor-Critic (AAC)\n",
    "<a id=part1_2></a>"
   ]
  },
  {
   "cell_type": "markdown",
   "metadata": {},
   "source": [
    "We have seen that the policy-gradient loss can be interpreted as a log-likelihood of the policy term\n",
    "(selecting a specific action at a specific state), weighted by the future rewards of that choice of action.\n",
    "\n",
    "However, naïvely weighting by rewards has significant drawbacks in terms of the variance of the resulting gradient.\n",
    "We addressed this by adding a simple baseline term which represented our \"expected reward\" so that we increase probability of actions\n",
    "leading to trajectories which exceed this expectation and vice-versa.\n",
    "\n",
    "In this part we'll explore a more powerful baseline, which is the idea behind the AAC method."
   ]
  },
  {
   "cell_type": "markdown",
   "metadata": {},
   "source": [
    "### The advantage function"
   ]
  },
  {
   "cell_type": "markdown",
   "metadata": {},
   "source": [
    "Recall the definition of the state-value function $v_{\\pi}(s)$ and action-value function $q_{\\pi}(s,a)$:\n",
    "\n",
    "$$\n",
    "\\begin{align}\n",
    "v_{\\pi}(s) &= \\E{g(\\tau)|s_0 = s,\\pi} \\\\\n",
    "q_{\\pi}(s,a) &= \\E{g(\\tau)|s_0 = s,a_0=a,\\pi}.\n",
    "\\end{align}\n",
    "$$\n",
    "\n",
    "Both these functions represent the value of the state $s$. However, $v_\\pi$ averages over the first action according to the policy,\n",
    "while $q_\\pi$ fixes the first action and then continues according to the policy."
   ]
  },
  {
   "cell_type": "markdown",
   "metadata": {},
   "source": [
    "Their difference is known as the **advantage function**:\n",
    "$$\n",
    "a_\\pi(s,a) = q_\\pi(s,a)-v_\\pi(s).\n",
    "$$\n",
    "\n",
    "If $a_\\pi(s,a)>0$ it means that it's better (in expectation) to take action $a$ in state $s$ compared to the average action.\n",
    "In other words, $a_\\pi(s,a)$ represents the *advantage* of using action $a$ in state $s$ compared to the others."
   ]
  },
  {
   "cell_type": "markdown",
   "metadata": {},
   "source": [
    "So far we have used an estimate for $q_\\pi$ as our weighting term for the log-policy, with a fixed baseline per batch.\n",
    "\n",
    "$$\n",
    "\\hat\\grad\\mathcal{L}_{\\text{BPG}}(\\vec{\\theta})\n",
    "=-\\frac{1}{N}\\sum_{i=1}^{N}\\sum_{t\\geq0} \\left(\\hat{q}_{i,t}-b\\right) \\grad\\log \\pi_{\\vec{\\theta}}(a_{i,t}|s_{i,t}).\n",
    "$$\n"
   ]
  },
  {
   "cell_type": "markdown",
   "metadata": {},
   "source": [
    "Now, we will use the state value as a baseline, so that an estimate of the advantage function is our weighting term:\n",
    "\n",
    "$$\n",
    "\\hat\\grad\\mathcal{L}_{\\text{AAC}}(\\vec{\\theta})\n",
    "=-\\frac{1}{N}\\sum_{i=1}^{N}\\sum_{t\\geq0} \\left(\\hat{q}_{i,t}-v_\\pi(s_t)\\right) \\grad\\log \\pi_{\\vec{\\theta}}(a_{i,t}|s_{i,t}).\n",
    "$$\n",
    "\n",
    "Intuitively, using the advantage function makes sense because it means we're weighting our policy's actions according to\n",
    "how advantageous they are compared to other possible actions."
   ]
  },
  {
   "cell_type": "markdown",
   "metadata": {},
   "source": [
    "But how will we know $v_\\pi(s)$? We'll learn it of course, using another neural network.\n",
    "This is known as actor-critic learning. We simultaneously learn the policy (actor) and the value of states (critic).\n",
    "We'll treat it as a regression task: given a state $s_t$, our state-value network will output $\\hat{v}_\\pi(s_t)$,\n",
    "an estimate of the actual unknown state-value.\n",
    "Our regression targets will be the discounted rewards, $\\hat{q}_{i,t}$ (see question 2),\n",
    "and we can use a simple MSE as the loss function,\n",
    "$$\n",
    "\\mathcal{L}_{\\text{SV}} = \\frac{1}{N}\\sum_{i=1}^{N}\\sum_{t\\geq0}\\left(\\hat{v}_\\pi(s_t) - \\hat{q}_{i,t}\\right)^2.\n",
    "$$\n"
   ]
  },
  {
   "cell_type": "markdown",
   "metadata": {},
   "source": [
    "### Implementation"
   ]
  },
  {
   "cell_type": "markdown",
   "metadata": {},
   "source": [
    "We'll build heavily on our implementation of the regular policy-gradient method, and just add a new model class and a new loss class, with a small modification to the agent."
   ]
  },
  {
   "cell_type": "markdown",
   "metadata": {},
   "source": [
    "Let's start with the model. It will accept a state, and return action scores (as before), but also the value of that state.\n",
    "You can experiment with a dual-head network that has a shared base, or implement two separate parts within the network.\n",
    "\n",
    "**TODO**:\n",
    "1. Implement the model as the `AACPolicyNet` class in the `hw4/rl_ac.py` module.\n",
    "1. Set the hyperparameters in the `part1_aac_hyperparams()` function of the `hw4.answers` module."
   ]
  },
  {
   "cell_type": "code",
   "execution_count": null,
   "metadata": {},
   "outputs": [],
   "source": [
    "import hw4.rl_ac as hw4ac\n",
    "\n",
    "hp = hw4.answers.part1_aac_hyperparams()\n",
    "pv_net = hw4ac.AACPolicyNet.build_for_env(env, device, **hp)\n",
    "pv_net"
   ]
  },
  {
   "cell_type": "markdown",
   "metadata": {},
   "source": [
    "**TODO**: Complete the implementation of the agent class, `AACPolicyAgent`, in the `hw4/rl_ac.py` module."
   ]
  },
  {
   "cell_type": "code",
   "execution_count": null,
   "metadata": {},
   "outputs": [],
   "source": [
    "agent = hw4ac.AACPolicyAgent(env, pv_net, device)\n",
    "exp = agent.step()\n",
    "\n",
    "test.assertIsInstance(exp, hw4pg.Experience)\n",
    "print(exp)"
   ]
  },
  {
   "cell_type": "markdown",
   "metadata": {},
   "source": [
    "**TODO**: Implement the AAC loss function as the class `AACPolicyGradientLoss` in the `hw4/rl_ac.py` module."
   ]
  },
  {
   "cell_type": "code",
   "execution_count": null,
   "metadata": {},
   "outputs": [],
   "source": [
    "loss_fn_aac = hw4ac.AACPolicyGradientLoss(delta=1.)\n",
    "test_state_values = torch.ones(test_action_scores.shape[0], 1)\n",
    "loss_t, loss_dict = loss_fn_aac(test_batch, (test_action_scores, test_state_values))\n",
    "\n",
    "print(f'{loss_dict=}')\n",
    "test.assertAlmostEqual(loss_dict['adv_m'], -23.191, delta=1e-2)\n",
    "test.assertAlmostEqual(loss_t.item(), 1183.948, delta=1e-2)"
   ]
  },
  {
   "cell_type": "markdown",
   "metadata": {},
   "source": [
    "### Experimentation"
   ]
  },
  {
   "cell_type": "markdown",
   "metadata": {},
   "source": [
    "Let's run the same experiment as before, but with the AAC method and compare the results."
   ]
  },
  {
   "cell_type": "code",
   "execution_count": null,
   "metadata": {},
   "outputs": [],
   "source": [
    "def train_aac(baseline=False, entropy=False, **train_kwargs):\n",
    "    hp = hw4.answers.part1_aac_hyperparams()\n",
    "    loss_fns = [hw4ac.AACPolicyGradientLoss(hp['delta']), hw4pg.ActionEntropyLoss(ENV_N_ACTIONS, hp['beta'])]\n",
    "    return train_rl(hw4ac.AACPolicyAgent, hw4ac.AACPolicyNet, loss_fns, hp, **train_kwargs)"
   ]
  },
  {
   "cell_type": "code",
   "execution_count": null,
   "metadata": {},
   "outputs": [],
   "source": [
    "training_data_filename = os.path.join('results', f'part1_exp_aac.dat')\n",
    "\n",
    "# Set to True to force re-run (careful, will delete old experiment results)\n",
    "force_run = False\n",
    "\n",
    "if os.path.isfile(training_data_filename) and not force_run:\n",
    "    print(f'=== results file {training_data_filename} exists, skipping experiments.')\n",
    "    results_aac = load_training_data(training_data_filename)\n",
    "    \n",
    "else:\n",
    "    print(f'=== Running AAC experiment')\n",
    "    training_data = train_aac(max_episodes=exp_max_episodes)\n",
    "    results_aac = dict(aac=training_data)\n",
    "    dump_training_data(results_aac, training_data_filename)"
   ]
  },
  {
   "cell_type": "code",
   "execution_count": null,
   "metadata": {},
   "outputs": [],
   "source": [
    "experiments_results_fig = plot_experiment_results(results)\n",
    "plot_experiment_results(results_aac, fig=experiments_results_fig);"
   ]
  },
  {
   "cell_type": "markdown",
   "metadata": {},
   "source": [
    "You should get better results with the AAC method, so this time the bar is higher (again, you should aim for a mean reward of 100+).\n",
    "Compare the graphs with combined PG method and see if they make sense."
   ]
  },
  {
   "cell_type": "code",
   "execution_count": null,
   "metadata": {},
   "outputs": [],
   "source": [
    "best_aac_mean_reward = max(results_aac['aac']['mean_reward'])\n",
    "print(f'Best AAC mean reward: {best_aac_mean_reward:.2f}')\n",
    "\n",
    "test.assertGreater(best_aac_mean_reward, 50)"
   ]
  },
  {
   "cell_type": "markdown",
   "metadata": {},
   "source": [
    "### Final model training and visualization"
   ]
  },
  {
   "cell_type": "markdown",
   "metadata": {},
   "source": [
    "Now, using your best model and hyperparams, let's train model for much longer and see the performance.\n",
    "Just for fun, we'll also visualize an episode every now and then so that we can see how well the agent is playing."
   ]
  },
  {
   "cell_type": "markdown",
   "metadata": {},
   "source": [
    "**TODO**:\n",
    "- Run the following block to train.\n",
    "- Tweak model or hyperparams as necessary.\n",
    "- Aim for high mean reward, at least 150+. It's possible to get over 200.\n",
    "- When training is done and you're satisfied with the model's outputs, rename the checkpoint file by adding `_final` to the file name.\n",
    "  This will cause the block to skip training and instead load your saved model when running the homework submission script.\n",
    "  Note that your submission zip file will not include the checkpoint file. This is OK."
   ]
  },
  {
   "cell_type": "code",
   "execution_count": null,
   "metadata": {},
   "outputs": [],
   "source": [
    "import IPython.display\n",
    "\n",
    "CHECKPOINTS_FILE = f'checkpoints/{ENV_NAME}-ac.dat'\n",
    "CHECKPOINTS_FILE_FINAL = f'checkpoints/{ENV_NAME}-ac_final.dat'\n",
    "TARGET_REWARD = 125\n",
    "MAX_EPISODES = 15_000\n",
    "\n",
    "def post_batch_fn(batch_idx, p_net, batch, print_every=20, final=False):\n",
    "    if not final and batch_idx % print_every != 0:\n",
    "        return\n",
    "    env, n_steps, reward = hw4ac.AACPolicyAgent.monitor_episode(ENV_NAME, p_net)\n",
    "    html = show_monitor_video(env, width=\"500\")\n",
    "    IPython.display.clear_output(wait=True)\n",
    "    print(f'Monitor@#{batch_idx}: n_steps={n_steps}, total_reward={reward:.3f}, final={final}')\n",
    "    IPython.display.display_html(html)\n",
    "    \n",
    "    \n",
    "if os.path.isfile(CHECKPOINTS_FILE_FINAL):\n",
    "    print(f'=== {CHECKPOINTS_FILE_FINAL} exists, skipping training...')\n",
    "    checkpoint_data = torch.load(CHECKPOINTS_FILE_FINAL)\n",
    "    hp = hw4.answers.part1_aac_hyperparams()\n",
    "    pv_net = hw4ac.AACPolicyNet.build_for_env(env, **hp)\n",
    "    pv_net.load_state_dict(checkpoint_data['params'])\n",
    "    print(f'=== Running best model...')\n",
    "    env, n_steps, reward = hw4ac.AACPolicyAgent.monitor_episode(ENV_NAME, pv_net)\n",
    "    print(f'=== Best model ran for {n_steps} steps. Total reward: {reward:.2f}')\n",
    "    IPython.display.display_html(show_monitor_video(env))\n",
    "    best_mean_reward = checkpoint_data[\"best_mean_reward\"]\n",
    "else:\n",
    "    print(f'=== Starting training...')\n",
    "    train_data = train_aac(TARGET_REWARD, max_episodes=MAX_EPISODES,\n",
    "                           seed=None, checkpoints_file=CHECKPOINTS_FILE, post_batch_fn=post_batch_fn)\n",
    "    print(f'=== Done, ', end='')\n",
    "    best_mean_reward = train_data[\"best_mean_reward\"][-1]\n",
    "    print(f'num_episodes={train_data[\"episode_num\"][-1]}, best_mean_reward={best_mean_reward:.1f}')\n",
    "          \n",
    "test.assertGreaterEqual(best_mean_reward, TARGET_REWARD)"
   ]
  },
  {
   "cell_type": "markdown",
   "metadata": {},
   "source": [
    "## Questions\n",
    "<a id=part1_3></a>"
   ]
  },
  {
   "cell_type": "markdown",
   "metadata": {},
   "source": [
    "**TODO**: Answer the following questions. Write your answers in the appropriate variables in the module `hw4/answers.py`."
   ]
  },
  {
   "cell_type": "code",
   "execution_count": null,
   "metadata": {},
   "outputs": [],
   "source": [
    "from cs236781.answers import display_answer\n",
    "import hw4.answers"
   ]
  },
  {
   "cell_type": "markdown",
   "metadata": {},
   "source": [
    "### Question 1\n",
    "\n",
    "Explain qualitatively why subtracting a baseline in the policy-gradient helps reduce it's variance.\n",
    "Specifically, give an example where it helps."
   ]
  },
  {
   "cell_type": "code",
   "execution_count": null,
   "metadata": {},
   "outputs": [],
   "source": [
    "display_answer(hw4.answers.part1_q1)"
   ]
  },
  {
   "cell_type": "markdown",
   "metadata": {},
   "source": [
    "### Question 2\n",
    "\n",
    "In AAC, when using the estimated q-values as regression targets for our state-values, why do we get a valid approximation?\n",
    "Hint: how is $v_\\pi(s)$ expressed in terms of $q_\\pi(s,a)$?"
   ]
  },
  {
   "cell_type": "code",
   "execution_count": null,
   "metadata": {},
   "outputs": [],
   "source": [
    "display_answer(hw4.answers.part1_q2)"
   ]
  },
  {
   "cell_type": "markdown",
   "metadata": {},
   "source": [
    "### Question 3\n",
    "\n",
    "1. Analyze and explain the graphs you got in first experiment run.\n",
    "2. Compare the experiment graphs you got with the AAC method to the regular PG method (`cpg`)."
   ]
  },
  {
   "cell_type": "code",
   "execution_count": null,
   "metadata": {},
   "outputs": [],
   "source": [
    "display_answer(hw4.answers.part1_q3)"
   ]
  }
 ],
 "metadata": {
  "kernelspec": {
   "display_name": "Python 3",
   "language": "python",
   "name": "python3"
  },
  "language_info": {
   "codemirror_mode": {
    "name": "ipython",
    "version": 3
   },
   "file_extension": ".py",
   "mimetype": "text/x-python",
   "name": "python",
   "nbconvert_exporter": "python",
   "pygments_lexer": "ipython3",
   "version": "3.8.6"
  }
 },
 "nbformat": 4,
 "nbformat_minor": 4
}
